{
 "cells": [
  {
   "cell_type": "code",
   "execution_count": 4,
   "id": "b74998cf",
   "metadata": {},
   "outputs": [
    {
     "data": {
      "text/plain": [
       "(150, 4)"
      ]
     },
     "execution_count": 4,
     "metadata": {},
     "output_type": "execute_result"
    }
   ],
   "source": [
    "iris"
   ]
  },
  {
   "cell_type": "code",
   "execution_count": 7,
   "id": "25cdeda6",
   "metadata": {},
   "outputs": [
    {
     "name": "stdout",
     "output_type": "stream",
     "text": [
      "X_train= (105, 4)\n",
      "X_test= (45, 4)\n",
      "y_train= (105, 1)\n",
      "y_test= (45, 1)\n"
     ]
    }
   ],
   "source": [
    "# 导入相关模块\n",
    "import numpy as np\n",
    "from collections import Counter\n",
    "import matplotlib.pyplot as plt\n",
    "from sklearn import datasets\n",
    "from sklearn.utils import shuffle\n",
    "# 导入sklearn iris数据集\n",
    "iris = datasets.load_iris()\n",
    "# 打乱数据后的数据与标签\n",
    "X, y = shuffle(iris.data, iris.target, random_state=13)\n",
    "# 数据转换为float32格式\n",
    "X = X.astype(np.float32)\n",
    "# 训练集与测试集的简单划分，训练-测试比例为7：3\n",
    "offset = int(X.shape[0] * 0.7)\n",
    "X_train, y_train = X[:offset], y[:offset]\n",
    "X_test, y_test = X[offset:], y[offset:]\n",
    "# 将标签转换为竖向量\n",
    "y_train = y_train.reshape((-1,1))\n",
    "y_test = y_test.reshape((-1,1))\n",
    "# 打印训练集和测试集大小\n",
    "print('X_train=', X_train.shape)\n",
    "print('X_test=', X_test.shape)\n",
    "print('y_train=', y_train.shape)\n",
    "print('y_test=', y_test.shape)"
   ]
  },
  {
   "cell_type": "code",
   "execution_count": 8,
   "id": "10b2c531",
   "metadata": {},
   "outputs": [],
   "source": [
    "### 定义欧氏距离\n",
    "def compute_distances(X, X_train):\n",
    "    '''\n",
    "    输入：\n",
    "    X：测试样本实例矩阵\n",
    "    X_train：训练样本实例矩阵\n",
    "    输出：\n",
    "    dists：欧式距离\n",
    "    '''\n",
    "    # 测试实例样本量\n",
    "    num_test = X.shape[0]\n",
    "    # 训练实例样本量\n",
    "    num_train = X_train.shape[0]\n",
    "    # 基于训练和测试维度的欧氏距离初始化\n",
    "    dists = np.zeros((num_test, num_train)) \n",
    "    # 测试样本与训练样本的矩阵点乘\n",
    "    M = np.dot(X, X_train.T)\n",
    "    # 测试样本矩阵平方\n",
    "    te = np.square(X).sum(axis=1)\n",
    "    # 训练样本矩阵平方\n",
    "    tr = np.square(X_train).sum(axis=1)\n",
    "    # 计算欧式距离\n",
    "    dists = np.sqrt(-2 * M + tr + np.matrix(te).T)    \n",
    "    return dists"
   ]
  },
  {
   "cell_type": "code",
   "execution_count": 9,
   "id": "5fb1985e",
   "metadata": {},
   "outputs": [
    {
     "data": {
      "text/plain": [
       "(150, 105)"
      ]
     },
     "execution_count": 9,
     "metadata": {},
     "output_type": "execute_result"
    }
   ],
   "source": [
    "d = np.square(X).sum(axis = 1)\n",
    "np.matrix(d).T.shape\n",
    "a = X_train.sum(axis = 1) + np.matrix(d).T\n",
    "a.shape"
   ]
  },
  {
   "cell_type": "code",
   "execution_count": 10,
   "id": "280d3eec",
   "metadata": {},
   "outputs": [
    {
     "ename": "TypeError",
     "evalue": "'tuple' object is not callable",
     "output_type": "error",
     "traceback": [
      "\u001b[0;31m---------------------------------------------------------------------------\u001b[0m",
      "\u001b[0;31mTypeError\u001b[0m                                 Traceback (most recent call last)",
      "Input \u001b[0;32mIn [10]\u001b[0m, in \u001b[0;36m<cell line: 7>\u001b[0;34m()\u001b[0m\n\u001b[1;32m      5\u001b[0m b\u001b[38;5;241m.\u001b[39mshape\n\u001b[1;32m      6\u001b[0m c \u001b[38;5;241m=\u001b[39m np\u001b[38;5;241m.\u001b[39mmatrix(np\u001b[38;5;241m.\u001b[39msquare(X_train)\u001b[38;5;241m.\u001b[39msum(axis \u001b[38;5;241m=\u001b[39m \u001b[38;5;241m1\u001b[39m))\u001b[38;5;241m.\u001b[39mT \u001b[38;5;241m+\u001b[39m np\u001b[38;5;241m.\u001b[39msquare(X_test)\u001b[38;5;241m.\u001b[39msum(axis \u001b[38;5;241m=\u001b[39m \u001b[38;5;241m1\u001b[39m)\n\u001b[0;32m----> 7\u001b[0m \u001b[43mc\u001b[49m\u001b[38;5;241;43m.\u001b[39;49m\u001b[43mshape\u001b[49m\u001b[43m(\u001b[49m\u001b[38;5;241;43m105\u001b[39;49m\u001b[43m,\u001b[49m\u001b[38;5;241;43m45\u001b[39;49m\u001b[43m)\u001b[49m\n\u001b[1;32m      8\u001b[0m d \u001b[38;5;241m=\u001b[39m  np\u001b[38;5;241m.\u001b[39msquare(X_train)\u001b[38;5;241m.\u001b[39msum(axis \u001b[38;5;241m=\u001b[39m \u001b[38;5;241m1\u001b[39m) \u001b[38;5;241m+\u001b[39m np\u001b[38;5;241m.\u001b[39msquare(X_test)\u001b[38;5;241m.\u001b[39msum(axis \u001b[38;5;241m=\u001b[39m \u001b[38;5;241m1\u001b[39m)\n\u001b[1;32m      9\u001b[0m d\u001b[38;5;241m.\u001b[39mshape\n",
      "\u001b[0;31mTypeError\u001b[0m: 'tuple' object is not callable"
     ]
    }
   ],
   "source": [
    "np.square(X_test).sum(axis = 1).shape #(45,)\n",
    "np.square(X_train).sum(axis = 1).shape#(105,)\n",
    "np.matrix(np.square(X_test).sum(axis = 1)).T.shape#(45,1)\n",
    "b = np.matrix(np.square(X_train).sum(axis = 1)) + np.matrix(np.square(X_test).sum(axis = 1)).T\n",
    "b.shape\n",
    "c = np.matrix(np.square(X_train).sum(axis = 1)).T + np.square(X_test).sum(axis = 1)\n",
    "c.shape(105,45)\n",
    "d =  np.square(X_train).sum(axis = 1) + np.square(X_test).sum(axis = 1)\n",
    "d.shape#(105,45)"
   ]
  },
  {
   "cell_type": "code",
   "execution_count": 11,
   "id": "709cc46c",
   "metadata": {},
   "outputs": [
    {
     "data": {
      "text/plain": [
       "dtype('float32')"
      ]
     },
     "execution_count": 11,
     "metadata": {},
     "output_type": "execute_result"
    }
   ],
   "source": [
    "np.square(X_train).sum(axis = 1).shape\n",
    "np.square(X_train).sum(axis = 1).dtype#数组"
   ]
  },
  {
   "cell_type": "code",
   "execution_count": 12,
   "id": "be6b6084",
   "metadata": {},
   "outputs": [
    {
     "data": {
      "text/plain": [
       "(105, 4)"
      ]
     },
     "execution_count": 12,
     "metadata": {},
     "output_type": "execute_result"
    }
   ],
   "source": [
    "X_test.shape#45,4\n",
    "X_train.shape#105,4"
   ]
  },
  {
   "cell_type": "code",
   "execution_count": 13,
   "id": "5f52a53c",
   "metadata": {},
   "outputs": [
    {
     "name": "stdout",
     "output_type": "stream",
     "text": [
      "[ 0.9787511   0.09342322  0.02203503  1.05493289 -1.11314135]\n",
      "[ 0.9787511   0.09342322  0.02203503  1.05493289 -1.11314135]\n",
      "[ 1.95750221  0.18684644  0.04407007  2.10986578 -2.2262827 ]\n",
      "3.3191342243061954\n"
     ]
    }
   ],
   "source": [
    "a = np.random.randn(5)\n",
    "print(a)\n",
    "print(a.T)\n",
    "print(a + a.T)\n",
    "print(np.dot(a,a.T))"
   ]
  },
  {
   "cell_type": "code",
   "execution_count": 14,
   "id": "1f79b257",
   "metadata": {},
   "outputs": [
    {
     "data": {
      "image/png": "[encoded data removed]",
      "text/plain": [
       "<Figure size 432x288 with 1 Axes>"
      ]
     },
     "metadata": {
      "needs_background": "light"
     },
     "output_type": "display_data"
    }
   ],
   "source": [
    "dists = compute_distances(X_test, X_train)\n",
    "plt.imshow(dists, interpolation='none')\n",
    "plt.show();"
   ]
  },
  {
   "cell_type": "code",
   "execution_count": 15,
   "id": "36e2ddfb",
   "metadata": {},
   "outputs": [],
   "source": [
    "### 定义预测函数\n",
    "def predict_labels(y_train, dists, k=1):\n",
    "    '''\n",
    "    输入：\n",
    "    y_train：训练集标签\n",
    "    dists：测试集与训练集之间的欧氏距离矩阵\n",
    "    k：k值\n",
    "    输出：\n",
    "    y_pred：测试集预测结果\n",
    "    '''\n",
    "    # 测试样本量\n",
    "    num_test = dists.shape[0]\n",
    "    # 初始化测试集预测结果\n",
    "    y_pred = np.zeros(num_test) \n",
    "    # 遍历   \n",
    "    for i in range(num_test):\n",
    "        # 初始化最近邻列表\n",
    "        closest_y = []\n",
    "        # 按欧氏距离矩阵排序后取索引，并用训练集标签按排序后的索引取值\n",
    "    # 最后拉平列表\n",
    "    # 注意np.argsort函数的用法\n",
    "        labels = y_train[np.argsort(dists[i, :])].flatten()\n",
    "        # 取最近的k个值\n",
    "        closest_y = labels[0:k]\n",
    "        # 对最近的k个值进行计数统计\n",
    "        # 这里注意collections模块中的计数器Counter的用法\n",
    "        c = Counter(closest_y)\n",
    "        # 取计数最多的那一个类别\n",
    "        y_pred[i] = c.most_common(1)[0][0]    \n",
    "    return y_pred"
   ]
  },
  {
   "cell_type": "code",
   "execution_count": 21,
   "id": "f35c0292",
   "metadata": {},
   "outputs": [
    {
     "name": "stdout",
     "output_type": "stream",
     "text": [
      "返回键与值: Counter({'o': 5, 'h': 4, 'l': 4, '-': 3, 'e': 2, 'p': 2, 'y': 1, 't': 1, 'n': 1, 'a': 1, 'd': 1})\n",
      "值的总和: 25\n",
      "------------------------------------------------------\n",
      "从大到小： [('o', 5), ('h', 4), ('l', 4), ('-', 3)]\n",
      "------------------------------------------------------\n",
      "split分割: ['hello', 'python', 'hello', 'hadoop']\n",
      "单词统计: Counter({'hello': 2, 'python': 1, 'hadoop': 1})\n",
      "o\n",
      "5\n"
     ]
    }
   ],
   "source": [
    "str = \"hello-python-hello-hadoop\"\n",
    "r1 = Counter(str)     # 每个字符出现了几次\n",
    "print(\"返回键与值:\", r1)  # 字典返回键与值\n",
    "print(\"值的总和:\", sum(r1.values()))  # 返回值的总和\n",
    "\n",
    "r2 = r1.most_common(4) # 输出前四个最多次数的元素\n",
    "print(\"---\" * 18)\n",
    "print(\"从大到小：\", r2)\n",
    "\n",
    "r3 = str.split(\"-\")  # 结合split,分割成单词统计\n",
    "print(\"---\" * 18)\n",
    "print(\"split分割:\", r3)\n",
    "print(\"单词统计:\", Counter(r3))\n",
    "print(r2[0][0])\n",
    "print(r2[0][1])"
   ]
  },
  {
   "cell_type": "code",
   "execution_count": 22,
   "id": "3ee0cf08",
   "metadata": {},
   "outputs": [
    {
     "name": "stdout",
     "output_type": "stream",
     "text": [
      "Got 44/45 correct=>accuracy:0.977778\n"
     ]
    }
   ],
   "source": [
    "# 测试集预测结果\n",
    "y_test_pred = predict_labels(y_train, dists, k=1)\n",
    "y_test_pred = y_test_pred.reshape((-1, 1))\n",
    "# 找出预测正确的实例\n",
    "num_correct = np.sum(y_test_pred == y_test)\n",
    "# 计算准确率\n",
    "accuracy = float(num_correct) / X_test.shape[0]\n",
    "print('Got %d/%d correct=>accuracy:%f'% (num_correct, X_test.shape[0], accuracy))"
   ]
  },
  {
   "cell_type": "code",
   "execution_count": 23,
   "id": "e5ccfb35",
   "metadata": {},
   "outputs": [
    {
     "name": "stdout",
     "output_type": "stream",
     "text": [
      "k = 1, accuracy = 0.904762\n",
      "k = 1, accuracy = 1.000000\n",
      "k = 1, accuracy = 0.952381\n",
      "k = 1, accuracy = 0.857143\n",
      "k = 1, accuracy = 0.952381\n",
      "k = 3, accuracy = 0.857143\n",
      "k = 3, accuracy = 1.000000\n",
      "k = 3, accuracy = 0.952381\n",
      "k = 3, accuracy = 0.857143\n",
      "k = 3, accuracy = 0.952381\n",
      "k = 5, accuracy = 0.857143\n",
      "k = 5, accuracy = 1.000000\n",
      "k = 5, accuracy = 0.952381\n",
      "k = 5, accuracy = 0.904762\n",
      "k = 5, accuracy = 0.952381\n",
      "k = 8, accuracy = 0.904762\n",
      "k = 8, accuracy = 1.000000\n",
      "k = 8, accuracy = 0.952381\n",
      "k = 8, accuracy = 0.904762\n",
      "k = 8, accuracy = 0.952381\n",
      "k = 10, accuracy = 0.952381\n",
      "k = 10, accuracy = 1.000000\n",
      "k = 10, accuracy = 0.952381\n",
      "k = 10, accuracy = 0.904762\n",
      "k = 10, accuracy = 0.952381\n",
      "k = 12, accuracy = 0.952381\n",
      "k = 12, accuracy = 1.000000\n",
      "k = 12, accuracy = 0.952381\n",
      "k = 12, accuracy = 0.857143\n",
      "k = 12, accuracy = 0.952381\n",
      "k = 15, accuracy = 0.952381\n",
      "k = 15, accuracy = 1.000000\n",
      "k = 15, accuracy = 0.952381\n",
      "k = 15, accuracy = 0.857143\n",
      "k = 15, accuracy = 0.952381\n",
      "k = 20, accuracy = 0.952381\n",
      "k = 20, accuracy = 1.000000\n",
      "k = 20, accuracy = 0.952381\n",
      "k = 20, accuracy = 0.761905\n",
      "k = 20, accuracy = 0.952381\n",
      "k = 50, accuracy = 1.000000\n",
      "k = 50, accuracy = 1.000000\n",
      "k = 50, accuracy = 0.904762\n",
      "k = 50, accuracy = 0.761905\n",
      "k = 50, accuracy = 0.904762\n",
      "k = 100, accuracy = 0.285714\n",
      "k = 100, accuracy = 0.380952\n",
      "k = 100, accuracy = 0.333333\n",
      "k = 100, accuracy = 0.238095\n",
      "k = 100, accuracy = 0.190476\n"
     ]
    }
   ],
   "source": [
    "### 5折交叉验证\n",
    "num_folds = 5\n",
    "# 候选k值\n",
    "k_choices = [1, 3, 5, 8, 10, 12, 15, 20, 50, 100]\n",
    "X_train_folds = []\n",
    "y_train_folds = []\n",
    "# 训练数据划分\n",
    "X_train_folds = np.array_split(X_train, num_folds)\n",
    "# 训练标签划分\n",
    "y_train_folds = np.array_split(y_train, num_folds)\n",
    "k_to_accuracies = {}\n",
    "# 遍历所有候选k值\n",
    "for k in k_choices:\n",
    "    # 五折遍历    \n",
    "    for fold in range(num_folds): \n",
    "        # 对传入的训练集单独划出一个验证集作为测试集\n",
    "        validation_X_test = X_train_folds[fold]\n",
    "        validation_y_test = y_train_folds[fold]\n",
    "        temp_X_train = np.concatenate(X_train_folds[:fold] + X_train_folds[fold + 1:])\n",
    "        temp_y_train = np.concatenate(y_train_folds[:fold] + y_train_folds[fold + 1:])       \n",
    "        # 计算距离\n",
    "        temp_dists = compute_distances(validation_X_test, temp_X_train)\n",
    "        temp_y_test_pred = predict_labels(temp_y_train, temp_dists, k=k)\n",
    "        temp_y_test_pred = temp_y_test_pred.reshape((-1, 1))       \n",
    "        # 查看分类准确率\n",
    "        num_correct = np.sum(temp_y_test_pred == validation_y_test)\n",
    "        num_test = validation_X_test.shape[0]\n",
    "        accuracy = float(num_correct) / num_test\n",
    "        k_to_accuracies[k] = k_to_accuracies.get(k,[]) + [accuracy]\n",
    "\n",
    "\n",
    "# 打印不同 k 值不同折数下的分类准确率\n",
    "for k in sorted(k_to_accuracies):    \n",
    "      for accuracy in k_to_accuracies[k]:\n",
    "        print('k = %d, accuracy = %f' % (k, accuracy))"
   ]
  },
  {
   "cell_type": "code",
   "execution_count": 30,
   "id": "13df7726",
   "metadata": {},
   "outputs": [
    {
     "name": "stdout",
     "output_type": "stream",
     "text": [
      "<class 'dict'>\n",
      "[array([[1],\n",
      "       [1],\n",
      "       [0],\n",
      "       [2],\n",
      "       [2],\n",
      "       [0],\n",
      "       [2],\n",
      "       [2],\n",
      "       [0],\n",
      "       [1],\n",
      "       [2],\n",
      "       [2],\n",
      "       [1],\n",
      "       [0],\n",
      "       [2],\n",
      "       [0],\n",
      "       [2],\n",
      "       [2],\n",
      "       [1],\n",
      "       [0],\n",
      "       [1]]), array([[0],\n",
      "       [0],\n",
      "       [2],\n",
      "       [1],\n",
      "       [2],\n",
      "       [0],\n",
      "       [2],\n",
      "       [1],\n",
      "       [2],\n",
      "       [2],\n",
      "       [0],\n",
      "       [0],\n",
      "       [2],\n",
      "       [2],\n",
      "       [1],\n",
      "       [0],\n",
      "       [1],\n",
      "       [1],\n",
      "       [0],\n",
      "       [0],\n",
      "       [2]]), array([[1],\n",
      "       [2],\n",
      "       [2],\n",
      "       [2],\n",
      "       [0],\n",
      "       [1],\n",
      "       [0],\n",
      "       [1],\n",
      "       [0],\n",
      "       [1],\n",
      "       [1],\n",
      "       [2],\n",
      "       [0],\n",
      "       [1],\n",
      "       [0],\n",
      "       [1],\n",
      "       [2],\n",
      "       [2],\n",
      "       [0],\n",
      "       [0],\n",
      "       [2]]), array([[1],\n",
      "       [2],\n",
      "       [2],\n",
      "       [0],\n",
      "       [2],\n",
      "       [1],\n",
      "       [1],\n",
      "       [0],\n",
      "       [0],\n",
      "       [0],\n",
      "       [1],\n",
      "       [1],\n",
      "       [1],\n",
      "       [2],\n",
      "       [2],\n",
      "       [1],\n",
      "       [2],\n",
      "       [2],\n",
      "       [2],\n",
      "       [0],\n",
      "       [2]]), array([[1],\n",
      "       [0],\n",
      "       [1],\n",
      "       [2],\n",
      "       [1],\n",
      "       [0],\n",
      "       [0],\n",
      "       [1],\n",
      "       [1],\n",
      "       [0],\n",
      "       [1],\n",
      "       [2],\n",
      "       [0],\n",
      "       [2],\n",
      "       [1],\n",
      "       [0],\n",
      "       [2],\n",
      "       [0],\n",
      "       [0],\n",
      "       [0],\n",
      "       [1]])]\n",
      "[array([[5.7, 2.8, 4.5, 1.3],\n",
      "       [5.6, 2.9, 3.6, 1.3],\n",
      "       [5.1, 3.7, 1.5, 0.4],\n",
      "       [5.8, 2.7, 5.1, 1.9],\n",
      "       [6.8, 3. , 5.5, 2.1],\n",
      "       [5.5, 4.2, 1.4, 0.2],\n",
      "       [7.7, 3. , 6.1, 2.3],\n",
      "       [6.3, 2.7, 4.9, 1.8],\n",
      "       [5.1, 3.8, 1.6, 0.2],\n",
      "       [5.5, 2.6, 4.4, 1.2],\n",
      "       [6. , 3. , 4.8, 1.8],\n",
      "       [6.3, 2.8, 5.1, 1.5],\n",
      "       [6.3, 2.3, 4.4, 1.3],\n",
      "       [5.1, 3.8, 1.9, 0.4],\n",
      "       [5.8, 2.8, 5.1, 2.4],\n",
      "       [4.8, 3.1, 1.6, 0.2],\n",
      "       [6.1, 3. , 4.9, 1.8],\n",
      "       [6.5, 3. , 5.8, 2.2],\n",
      "       [6.1, 3. , 4.6, 1.4],\n",
      "       [4.4, 2.9, 1.4, 0.2],\n",
      "       [6. , 2.9, 4.5, 1.5]], dtype=float32), array([[5.7, 4.4, 1.5, 0.4],\n",
      "       [5.1, 3.5, 1.4, 0.3],\n",
      "       [7.4, 2.8, 6.1, 1.9],\n",
      "       [5.4, 3. , 4.5, 1.5],\n",
      "       [6.7, 3.3, 5.7, 2.5],\n",
      "       [5.8, 4. , 1.2, 0.2],\n",
      "       [7.7, 2.6, 6.9, 2.3],\n",
      "       [6.1, 2.9, 4.7, 1.4],\n",
      "       [6.4, 2.8, 5.6, 2.2],\n",
      "       [6.4, 3.1, 5.5, 1.8],\n",
      "       [5.2, 4.1, 1.5, 0.1],\n",
      "       [5.4, 3.4, 1.5, 0.4],\n",
      "       [6.9, 3.1, 5.1, 2.3],\n",
      "       [6.3, 2.5, 5. , 1.9],\n",
      "       [6.2, 2.9, 4.3, 1.3],\n",
      "       [5.1, 3.3, 1.7, 0.5],\n",
      "       [5.6, 3. , 4.5, 1.5],\n",
      "       [6.2, 2.2, 4.5, 1.5],\n",
      "       [4.8, 3. , 1.4, 0.1],\n",
      "       [5.2, 3.5, 1.5, 0.2],\n",
      "       [6.1, 2.6, 5.6, 1.4]], dtype=float32), array([[5.7, 2.9, 4.2, 1.3],\n",
      "       [7.2, 3.2, 6. , 1.8],\n",
      "       [6.5, 3.2, 5.1, 2. ],\n",
      "       [7.2, 3.6, 6.1, 2.5],\n",
      "       [5.1, 3.4, 1.5, 0.2],\n",
      "       [5. , 2.3, 3.3, 1. ],\n",
      "       [4.4, 3.2, 1.3, 0.2],\n",
      "       [6.5, 2.8, 4.6, 1.5],\n",
      "       [5.7, 3.8, 1.7, 0.3],\n",
      "       [5.7, 3. , 4.2, 1.2],\n",
      "       [5.9, 3.2, 4.8, 1.8],\n",
      "       [6.8, 3.2, 5.9, 2.3],\n",
      "       [4.9, 3.1, 1.5, 0.1],\n",
      "       [5.5, 2.4, 3.8, 1.1],\n",
      "       [4.7, 3.2, 1.6, 0.2],\n",
      "       [5.6, 2.5, 3.9, 1.1],\n",
      "       [6.4, 2.7, 5.3, 1.9],\n",
      "       [6.3, 3.3, 6. , 2.5],\n",
      "       [4.6, 3.1, 1.5, 0.2],\n",
      "       [5. , 3.5, 1.6, 0.6],\n",
      "       [6.3, 2.9, 5.6, 1.8]], dtype=float32), array([[6.3, 3.3, 4.7, 1.6],\n",
      "       [7.3, 2.9, 6.3, 1.8],\n",
      "       [6.5, 3. , 5.5, 1.8],\n",
      "       [5. , 3.6, 1.4, 0.2],\n",
      "       [4.9, 2.5, 4.5, 1.7],\n",
      "       [5. , 2. , 3.5, 1. ],\n",
      "       [6.7, 3. , 5. , 1.7],\n",
      "       [5.3, 3.7, 1.5, 0.2],\n",
      "       [5.4, 3.4, 1.7, 0.2],\n",
      "       [5. , 3.2, 1.2, 0.2],\n",
      "       [7. , 3.2, 4.7, 1.4],\n",
      "       [4.9, 2.4, 3.3, 1. ],\n",
      "       [5.8, 2.7, 4.1, 1. ],\n",
      "       [6.7, 2.5, 5.8, 1.8],\n",
      "       [7.6, 3. , 6.6, 2.1],\n",
      "       [5.5, 2.3, 4. , 1.3],\n",
      "       [5.9, 3. , 5.1, 1.8],\n",
      "       [5.6, 2.8, 4.9, 2. ],\n",
      "       [6. , 2.2, 5. , 1.5],\n",
      "       [5. , 3.4, 1.6, 0.4],\n",
      "       [6.5, 3. , 5.2, 2. ]], dtype=float32), array([[6.7, 3.1, 4.4, 1.4],\n",
      "       [5. , 3. , 1.6, 0.2],\n",
      "       [5.8, 2.6, 4. , 1.2],\n",
      "       [7.1, 3. , 5.9, 2.1],\n",
      "       [5.7, 2.8, 4.1, 1.3],\n",
      "       [4.3, 3. , 1.1, 0.1],\n",
      "       [4.9, 3.6, 1.4, 0.1],\n",
      "       [6.3, 2.5, 4.9, 1.5],\n",
      "       [5.2, 2.7, 3.9, 1.4],\n",
      "       [5.2, 3.4, 1.4, 0.2],\n",
      "       [5.5, 2.4, 3.7, 1. ],\n",
      "       [6.7, 3.1, 5.6, 2.4],\n",
      "       [4.5, 2.3, 1.3, 0.3],\n",
      "       [6.4, 2.8, 5.6, 2.1],\n",
      "       [5.5, 2.5, 4. , 1.3],\n",
      "       [4.6, 3.2, 1.4, 0.2],\n",
      "       [6.7, 3.3, 5.7, 2.1],\n",
      "       [5.1, 3.5, 1.4, 0.2],\n",
      "       [5.4, 3.9, 1.7, 0.4],\n",
      "       [5.1, 3.8, 1.5, 0.3],\n",
      "       [5.6, 2.7, 4.2, 1.3]], dtype=float32)]\n"
     ]
    }
   ],
   "source": [
    "print(type(k_to_accuracies))\n",
    "print(y_train_folds)\n",
    "print(X_train_folds)"
   ]
  },
  {
   "cell_type": "code",
   "execution_count": 48,
   "id": "5c2959dd",
   "metadata": {},
   "outputs": [
    {
     "data": {
      "image/png": "[encoded data removed]",
      "text/plain": [
       "<Figure size 432x288 with 1 Axes>"
      ]
     },
     "metadata": {
      "needs_background": "light"
     },
     "output_type": "display_data"
    }
   ],
   "source": [
    "# 打印不同 k 值不同折数下的分类准确率\n",
    "for k in k_choices:\n",
    "    # 取出第k个k值的分类准确率\n",
    "    accuracies = k_to_accuracies[k]\n",
    "    # 绘制不同k值准确率的散点图\n",
    "    plt.scatter([k] * len(accuracies), accuracies)\n",
    "# 计算准确率均值并排序\n",
    "accuracies_mean = np.array([np.mean(v) for k,v in sorted(k_to_accuracies.items())])\n",
    "# 计算准确率标准差并排序\n",
    "accuracies_std = np.array([np.std(v) for k,v in sorted(k_to_accuracies.items())])\n",
    "# 绘制有置信区间的误差棒图\n",
    "plt.errorbar(k_choices, accuracies_mean, yerr=accuracies_std)\n",
    "# 绘图标题\n",
    "plt.title('Cross-validation on k')\n",
    "# x轴标签\n",
    "plt.xlabel('k')\n",
    "# y轴标签\n",
    "plt.ylabel('Cross-validation accuracy')\n",
    "plt.show();"
   ]
  },
  {
   "cell_type": "code",
   "execution_count": 44,
   "id": "c725f601",
   "metadata": {},
   "outputs": [
    {
     "name": "stdout",
     "output_type": "stream",
     "text": [
      "{1: [0.9047619047619048, 1.0, 0.9523809523809523, 0.8571428571428571, 0.9523809523809523], 3: [0.8571428571428571, 1.0, 0.9523809523809523, 0.8571428571428571, 0.9523809523809523], 5: [0.8571428571428571, 1.0, 0.9523809523809523, 0.9047619047619048, 0.9523809523809523], 8: [0.9047619047619048, 1.0, 0.9523809523809523, 0.9047619047619048, 0.9523809523809523], 10: [0.9523809523809523, 1.0, 0.9523809523809523, 0.9047619047619048, 0.9523809523809523], 12: [0.9523809523809523, 1.0, 0.9523809523809523, 0.8571428571428571, 0.9523809523809523], 15: [0.9523809523809523, 1.0, 0.9523809523809523, 0.8571428571428571, 0.9523809523809523], 20: [0.9523809523809523, 1.0, 0.9523809523809523, 0.7619047619047619, 0.9523809523809523], 50: [1.0, 1.0, 0.9047619047619048, 0.7619047619047619, 0.9047619047619048], 100: [0.2857142857142857, 0.38095238095238093, 0.3333333333333333, 0.23809523809523808, 0.19047619047619047]}\n",
      "[0.9047619047619048, 1.0, 0.9523809523809523, 0.8571428571428571, 0.9523809523809523]\n",
      "5\n",
      "[1, 1, 1, 1, 1]\n",
      "dict_items([(1, [0.9047619047619048, 1.0, 0.9523809523809523, 0.8571428571428571, 0.9523809523809523]), (3, [0.8571428571428571, 1.0, 0.9523809523809523, 0.8571428571428571, 0.9523809523809523]), (5, [0.8571428571428571, 1.0, 0.9523809523809523, 0.9047619047619048, 0.9523809523809523]), (8, [0.9047619047619048, 1.0, 0.9523809523809523, 0.9047619047619048, 0.9523809523809523]), (10, [0.9523809523809523, 1.0, 0.9523809523809523, 0.9047619047619048, 0.9523809523809523]), (12, [0.9523809523809523, 1.0, 0.9523809523809523, 0.8571428571428571, 0.9523809523809523]), (15, [0.9523809523809523, 1.0, 0.9523809523809523, 0.8571428571428571, 0.9523809523809523]), (20, [0.9523809523809523, 1.0, 0.9523809523809523, 0.7619047619047619, 0.9523809523809523]), (50, [1.0, 1.0, 0.9047619047619048, 0.7619047619047619, 0.9047619047619048]), (100, [0.2857142857142857, 0.38095238095238093, 0.3333333333333333, 0.23809523809523808, 0.19047619047619047])])\n",
      "____*_________*_________*_________*_________*_________*_________*_________*_________*_________*_____\n",
      "[(1, [0.9047619047619048, 1.0, 0.9523809523809523, 0.8571428571428571, 0.9523809523809523]), (3, [0.8571428571428571, 1.0, 0.9523809523809523, 0.8571428571428571, 0.9523809523809523]), (5, [0.8571428571428571, 1.0, 0.9523809523809523, 0.9047619047619048, 0.9523809523809523]), (8, [0.9047619047619048, 1.0, 0.9523809523809523, 0.9047619047619048, 0.9523809523809523]), (10, [0.9523809523809523, 1.0, 0.9523809523809523, 0.9047619047619048, 0.9523809523809523]), (12, [0.9523809523809523, 1.0, 0.9523809523809523, 0.8571428571428571, 0.9523809523809523]), (15, [0.9523809523809523, 1.0, 0.9523809523809523, 0.8571428571428571, 0.9523809523809523]), (20, [0.9523809523809523, 1.0, 0.9523809523809523, 0.7619047619047619, 0.9523809523809523]), (50, [1.0, 1.0, 0.9047619047619048, 0.7619047619047619, 0.9047619047619048]), (100, [0.2857142857142857, 0.38095238095238093, 0.3333333333333333, 0.23809523809523808, 0.19047619047619047])]\n",
      "____*_________*_________*_________*_________*_________*_________*_________*_________*_________*_____\n",
      "[0.93333333 0.92380952 0.93333333 0.94285714 0.95238095 0.94285714\n",
      " 0.94285714 0.92380952 0.91428571 0.28571429]\n"
     ]
    }
   ],
   "source": [
    "print(k_to_accuracies)\n",
    "print(k_to_accuracies[1])\n",
    "print(len(k_to_accuracies[1]))\n",
    "print([1]*len(k_to_accuracies[1]))\n",
    "print(k_to_accuracies.items())\n",
    "print(\"____*_____\"*10)\n",
    "print(sorted(k_to_accuracies.items()))\n",
    "print(\"____*_____\"*10)\n",
    "print(np.array([np.mean(v) for k,v in sorted(k_to_accuracies.items())]))"
   ]
  },
  {
   "cell_type": "code",
   "execution_count": 49,
   "id": "22997c79",
   "metadata": {},
   "outputs": [
    {
     "name": "stdout",
     "output_type": "stream",
     "text": [
      "Got 44 / 45 correct => accuracy: 0.977778\n"
     ]
    },
    {
     "name": "stderr",
     "output_type": "stream",
     "text": [
      "/Users/heshuaichen/opt/anaconda3/lib/python3.9/site-packages/sklearn/neighbors/_classification.py:198: DataConversionWarning: A column-vector y was passed when a 1d array was expected. Please change the shape of y to (n_samples,), for example using ravel().\n",
      "  return self._fit(X, y)\n"
     ]
    }
   ],
   "source": [
    "# 导入KneighborsClassifier模块\n",
    "from sklearn.neighbors import KNeighborsClassifier\n",
    "# 创建k近邻实例\n",
    "neigh = KNeighborsClassifier(n_neighbors=10)\n",
    "# k近邻模型拟合\n",
    "neigh.fit(X_train, y_train)\n",
    "# k近邻模型预测\n",
    "y_pred = neigh.predict(X_test)\n",
    "# 预测结果数组重塑\n",
    "y_pred = y_pred.reshape((-1, 1))\n",
    "# 统计预测正确的个数\n",
    "num_correct = np.sum(y_pred == y_test)\n",
    "# 计算准确率\n",
    "accuracy = float(num_correct) / X_test.shape[0]\n",
    "print('Got %d / %d correct => accuracy: %f' % (num_correct, X_test.shape[0], accuracy))"
   ]
  },
  {
   "cell_type": "code",
   "execution_count": null,
   "id": "3302ef11",
   "metadata": {},
   "outputs": [],
   "source": []
  }
 ],
 "metadata": {
  "kernelspec": {
   "display_name": "Python 3 (ipykernel)",
   "language": "python",
   "name": "python3"
  },
  "language_info": {
   "codemirror_mode": {
    "name": "ipython",
    "version": 3
   },
   "file_extension": ".py",
   "mimetype": "text/x-python",
   "name": "python",
   "nbconvert_exporter": "python",
   "pygments_lexer": "ipython3",
   "version": "3.9.12"
  }
 },
 "nbformat": 4,
 "nbformat_minor": 5
}
