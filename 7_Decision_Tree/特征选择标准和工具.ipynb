{
 "cells": [
  {
   "cell_type": "code",
   "execution_count": 4,
   "id": "66cdb1e4",
   "metadata": {},
   "outputs": [],
   "source": [
    "#信息熵的计算\n",
    "import numpy as np\n",
    "from math import log\n",
    "import pandas as pd"
   ]
  },
  {
   "cell_type": "code",
   "execution_count": 11,
   "id": "b34c7d6d",
   "metadata": {},
   "outputs": [],
   "source": [
    "def entropy(ele):\n",
    "    '''\n",
    "    输入：\n",
    "    ele：包含类别取值的列表\n",
    "    输出：\n",
    "    信息熵\n",
    "    '''\n",
    "    #计算列表中取值的概率分布\n",
    "    probs = [ele.count(i)/len(ele) for i in set(ele)]\n",
    "    #计算信息熵\n",
    "    entropy = -sum([prob*log(prob,2) for prob in probs])\n",
    "    return entropy"
   ]
  },
  {
   "cell_type": "code",
   "execution_count": 8,
   "id": "ad97993f",
   "metadata": {},
   "outputs": [],
   "source": [
    "#数据集划分函数\n",
    "def df_split(df,col):\n",
    "    '''\n",
    "    输入：\n",
    "    df：待划分的训练数据\n",
    "    col：划分数据的依据特征\n",
    "    输出：\n",
    "    res——dict：根据特征划分后的不同数据集的子集\n",
    "    '''\n",
    "    #获取依据特征的不同取值\n",
    "    unique_col_val = df[col].unique()\n",
    "    #创建划分结果的数据框字典\n",
    "    res_dict = {elem : pd.DataFrame for elem in unique_col_val}\n",
    "    #根据特征取值进行划分\n",
    "    for key in res_dict.keys():\n",
    "        res_dict[key] = df[:][df[col] == key] #以key为分类标签 为key的包括key在内所有特征保留\n",
    "        return res_dict"
   ]
  },
  {
   "cell_type": "code",
   "execution_count": 13,
   "id": "31a829cd",
   "metadata": {},
   "outputs": [
    {
     "data": {
      "text/plain": [
       "dict_keys([1, 2, 3, 4, 5, 6, 7, 8, 9])"
      ]
     },
     "execution_count": 13,
     "metadata": {},
     "output_type": "execute_result"
    }
   ],
   "source": [
    "r = {i : pd.DataFrame for i in range(1,10)}\n",
    "r.keys()"
   ]
  },
  {
   "cell_type": "code",
   "execution_count": 21,
   "id": "5e5abe01",
   "metadata": {},
   "outputs": [],
   "source": [
    "df = pd.read_csv('example_data.csv')"
   ]
  },
  {
   "cell_type": "code",
   "execution_count": 22,
   "id": "3b24e8d6",
   "metadata": {},
   "outputs": [
    {
     "ename": "NameError",
     "evalue": "name 'subset1' is not defined",
     "output_type": "error",
     "traceback": [
      "\u001b[0;31m---------------------------------------------------------------------------\u001b[0m",
      "\u001b[0;31mNameError\u001b[0m                                 Traceback (most recent call last)",
      "Input \u001b[0;32mIn [22]\u001b[0m, in \u001b[0;36m<cell line: 6>\u001b[0;34m()\u001b[0m\n\u001b[1;32m      3\u001b[0m entropy_D \u001b[38;5;241m=\u001b[39m entropy(df[\u001b[38;5;124m'\u001b[39m\u001b[38;5;124mplay\u001b[39m\u001b[38;5;124m'\u001b[39m]\u001b[38;5;241m.\u001b[39mtolist())\n\u001b[1;32m      4\u001b[0m \u001b[38;5;66;03m#计算天气特征的经验条件熵\u001b[39;00m\n\u001b[1;32m      5\u001b[0m \u001b[38;5;66;03m#其中sunset1～suubset3为根据天气特征三个取值划分后的子集\u001b[39;00m\n\u001b[0;32m----> 6\u001b[0m entropy_DA \u001b[38;5;241m=\u001b[39m \u001b[38;5;28mlen\u001b[39m(\u001b[43msubset1\u001b[49m)\u001b[38;5;241m/\u001b[39m\u001b[38;5;28mlen\u001b[39m(df) \u001b[38;5;241m*\u001b[39m entropy(subset1[\u001b[38;5;124m'\u001b[39m\u001b[38;5;124moutlook\u001b[39m\u001b[38;5;124m'\u001b[39m]\u001b[38;5;241m.\u001b[39mtolist()) \u001b[38;5;241m+\u001b[39m \u001b[38;5;28mlen\u001b[39m(subset2)\u001b[38;5;241m/\u001b[39m\u001b[38;5;28mlen\u001b[39m(df) \u001b[38;5;241m*\u001b[39m entropy(sunset2[\u001b[38;5;124m'\u001b[39m\u001b[38;5;124moutlook\u001b[39m\u001b[38;5;124m'\u001b[39m]\u001b[38;5;241m.\u001b[39mtolist()) \u001b[38;5;241m+\u001b[39m \u001b[38;5;28mlen\u001b[39m(sunset3)\u001b[38;5;241m/\u001b[39m\u001b[38;5;28mlen\u001b[39m(df) \u001b[38;5;241m*\u001b[39m entropy(sunset3[\u001b[38;5;124m'\u001b[39m\u001b[38;5;124moutlook\u001b[39m\u001b[38;5;124m'\u001b[39m]\u001b[38;5;241m.\u001b[39mtolist())\n\u001b[1;32m      7\u001b[0m             \u001b[38;5;66;03m#len(df) :样本量14\u001b[39;00m\n\u001b[1;32m      8\u001b[0m             \u001b[38;5;66;03m#计算天气特征的信息增益\u001b[39;00m\n\u001b[1;32m      9\u001b[0m info_gain \u001b[38;5;241m=\u001b[39m entropy_D \u001b[38;5;241m-\u001b[39m entropy_DA\n",
      "\u001b[0;31mNameError\u001b[0m: name 'subset1' is not defined"
     ]
    }
   ],
   "source": [
    "#计算数据集的经验熵\n",
    "#‘play’为目标变量，即是否打高尔夫\n",
    "entropy_D = entropy(df['play'].tolist())\n",
    "#计算天气特征的经验条件熵\n",
    "#其中sunset1～suubset3为根据天气特征三个取值划分后的子集\n",
    "entropy_DA = len(subset1)/len(df) * entropy(subset1['outlook'].tolist()) + len(subset2)/len(df) * entropy(sunset2['outlook'].tolist()) + len(sunset3)/len(df) * entropy(sunset3['outlook'].tolist())\n",
    "            #len(df) :样本量14\n",
    "            #计算天气特征的信息增益\n",
    "info_gain = entropy_D - entropy_DA\n",
    "print('天气形势对于数据集分类的信息增益为：' , info_gain)"
   ]
  },
  {
   "cell_type": "code",
   "execution_count": 23,
   "id": "7f2ba78a",
   "metadata": {},
   "outputs": [
    {
     "name": "stdout",
     "output_type": "stream",
     "text": [
      "['no', 'no', 'yes', 'yes', 'yes', 'no', 'yes', 'no', 'yes', 'yes', 'yes', 'yes', 'yes', 'no']\n"
     ]
    },
    {
     "data": {
      "text/html": [
       "<div>\n",
       "<style scoped>\n",
       "    .dataframe tbody tr th:only-of-type {\n",
       "        vertical-align: middle;\n",
       "    }\n",
       "\n",
       "    .dataframe tbody tr th {\n",
       "        vertical-align: top;\n",
       "    }\n",
       "\n",
       "    .dataframe thead th {\n",
       "        text-align: right;\n",
       "    }\n",
       "</style>\n",
       "<table border=\"1\" class=\"dataframe\">\n",
       "  <thead>\n",
       "    <tr style=\"text-align: right;\">\n",
       "      <th></th>\n",
       "      <th>humility</th>\n",
       "      <th>outlook</th>\n",
       "      <th>play</th>\n",
       "      <th>temp</th>\n",
       "      <th>windy</th>\n",
       "    </tr>\n",
       "  </thead>\n",
       "  <tbody>\n",
       "    <tr>\n",
       "      <th>2</th>\n",
       "      <td>high</td>\n",
       "      <td>overcast</td>\n",
       "      <td>yes</td>\n",
       "      <td>hot</td>\n",
       "      <td>False</td>\n",
       "    </tr>\n",
       "    <tr>\n",
       "      <th>3</th>\n",
       "      <td>high</td>\n",
       "      <td>rainy</td>\n",
       "      <td>yes</td>\n",
       "      <td>mild</td>\n",
       "      <td>False</td>\n",
       "    </tr>\n",
       "    <tr>\n",
       "      <th>4</th>\n",
       "      <td>normal</td>\n",
       "      <td>rainy</td>\n",
       "      <td>yes</td>\n",
       "      <td>cool</td>\n",
       "      <td>False</td>\n",
       "    </tr>\n",
       "    <tr>\n",
       "      <th>6</th>\n",
       "      <td>normal</td>\n",
       "      <td>overcast</td>\n",
       "      <td>yes</td>\n",
       "      <td>cool</td>\n",
       "      <td>True</td>\n",
       "    </tr>\n",
       "    <tr>\n",
       "      <th>8</th>\n",
       "      <td>normal</td>\n",
       "      <td>sunny</td>\n",
       "      <td>yes</td>\n",
       "      <td>cool</td>\n",
       "      <td>False</td>\n",
       "    </tr>\n",
       "    <tr>\n",
       "      <th>9</th>\n",
       "      <td>normal</td>\n",
       "      <td>rainy</td>\n",
       "      <td>yes</td>\n",
       "      <td>mild</td>\n",
       "      <td>False</td>\n",
       "    </tr>\n",
       "    <tr>\n",
       "      <th>10</th>\n",
       "      <td>normal</td>\n",
       "      <td>sunny</td>\n",
       "      <td>yes</td>\n",
       "      <td>mild</td>\n",
       "      <td>True</td>\n",
       "    </tr>\n",
       "    <tr>\n",
       "      <th>11</th>\n",
       "      <td>high</td>\n",
       "      <td>overcast</td>\n",
       "      <td>yes</td>\n",
       "      <td>mild</td>\n",
       "      <td>True</td>\n",
       "    </tr>\n",
       "    <tr>\n",
       "      <th>12</th>\n",
       "      <td>normal</td>\n",
       "      <td>overcast</td>\n",
       "      <td>yes</td>\n",
       "      <td>hot</td>\n",
       "      <td>False</td>\n",
       "    </tr>\n",
       "  </tbody>\n",
       "</table>\n",
       "</div>"
      ],
      "text/plain": [
       "   humility   outlook play  temp  windy\n",
       "2      high  overcast  yes   hot  False\n",
       "3      high     rainy  yes  mild  False\n",
       "4    normal     rainy  yes  cool  False\n",
       "6    normal  overcast  yes  cool   True\n",
       "8    normal     sunny  yes  cool  False\n",
       "9    normal     rainy  yes  mild  False\n",
       "10   normal     sunny  yes  mild   True\n",
       "11     high  overcast  yes  mild   True\n",
       "12   normal  overcast  yes   hot  False"
      ]
     },
     "execution_count": 23,
     "metadata": {},
     "output_type": "execute_result"
    }
   ],
   "source": [
    "#print(df)\n",
    "#print(entropy_D)\n",
    "print(df['play'].tolist())\n",
    "ele1 = df['play'].tolist()\n",
    "a = [ele1.count(i) / len(ele1) for i in set(ele1)]\n",
    "a\n",
    "set(ele1)\n",
    "df[:]\n",
    "df[:][df['play'] == 'yes']"
   ]
  },
  {
   "cell_type": "code",
   "execution_count": 1,
   "id": "89010ca1",
   "metadata": {},
   "outputs": [],
   "source": [
    "#基尼指数计算器\n",
    "def gini(nums):\n",
    "    '''\n",
    "    输入：\n",
    "    nums：包含类别取值的列表\n",
    "    输出：基尼指数值\n",
    "    '''\n",
    "    #获取列表类别的概率分布\n",
    "    probs = [nums.count(i)/len(nums) for i in set(nums)]\n",
    "    #计算基尼指数\n",
    "    gini = sum([p*(1-p) for p in probs])\n",
    "    return gini"
   ]
  },
  {
   "cell_type": "code",
   "execution_count": 6,
   "id": "bb0b4c5a",
   "metadata": {},
   "outputs": [],
   "source": [
    "df = pd.read_csv('example_data.csv')"
   ]
  },
  {
   "cell_type": "code",
   "execution_count": 31,
   "id": "6203cbe6",
   "metadata": {},
   "outputs": [],
   "source": [
    "sb = df_split(df,'outlook')\n",
    "subset1 = sb['sunny']\n",
    "subset2 = sb['rainy' and 'overcast']"
   ]
  },
  {
   "cell_type": "code",
   "execution_count": 24,
   "id": "10098374",
   "metadata": {},
   "outputs": [
    {
     "ename": "TypeError",
     "evalue": "object of type 'type' has no len()",
     "output_type": "error",
     "traceback": [
      "\u001b[0;31m---------------------------------------------------------------------------\u001b[0m",
      "\u001b[0;31mTypeError\u001b[0m                                 Traceback (most recent call last)",
      "Input \u001b[0;32mIn [24]\u001b[0m, in \u001b[0;36m<cell line: 1>\u001b[0;34m()\u001b[0m\n\u001b[0;32m----> 1\u001b[0m gini_DA \u001b[38;5;241m=\u001b[39m \u001b[38;5;28mlen\u001b[39m(subset1)\u001b[38;5;241m/\u001b[39m\u001b[38;5;28mlen\u001b[39m(df) \u001b[38;5;241m*\u001b[39m gini(subset1[\u001b[38;5;124m'\u001b[39m\u001b[38;5;124mplay\u001b[39m\u001b[38;5;124m'\u001b[39m]\u001b[38;5;241m.\u001b[39mtolist()) \u001b[38;5;241m+\u001b[39m \u001b[38;5;28;43mlen\u001b[39;49m\u001b[43m(\u001b[49m\u001b[43msubset2\u001b[49m\u001b[43m)\u001b[49m\u001b[38;5;241m/\u001b[39m\u001b[38;5;28mlen\u001b[39m(df) \u001b[38;5;241m*\u001b[39m gini(subset2[\u001b[38;5;124m'\u001b[39m\u001b[38;5;124mplay\u001b[39m\u001b[38;5;124m'\u001b[39m]\u001b[38;5;241m.\u001b[39mtolist())\n",
      "\u001b[0;31mTypeError\u001b[0m: object of type 'type' has no len()"
     ]
    }
   ],
   "source": [
    "\n",
    "gini_DA = len(subset1)/len(df) * gini(subset1['play'].tolist()) + len(subset2)/len(df) * gini(subset2['play'].tolist())"
   ]
  },
  {
   "cell_type": "code",
   "execution_count": null,
   "id": "f80caa51",
   "metadata": {},
   "outputs": [],
   "source": []
  }
 ],
 "metadata": {
  "kernelspec": {
   "display_name": "Python 3 (ipykernel)",
   "language": "python",
   "name": "python3"
  },
  "language_info": {
   "codemirror_mode": {
    "name": "ipython",
    "version": 3
   },
   "file_extension": ".py",
   "mimetype": "text/x-python",
   "name": "python",
   "nbconvert_exporter": "python",
   "pygments_lexer": "ipython3",
   "version": "3.9.12"
  }
 },
 "nbformat": 4,
 "nbformat_minor": 5
}
