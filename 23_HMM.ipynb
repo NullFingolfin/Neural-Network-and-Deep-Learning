{
 "cells": [
  {
   "cell_type": "markdown",
   "metadata": {},
   "source": [
    "### HMM"
   ]
  },
  {
   "cell_type": "code",
   "execution_count": 1,
   "metadata": {},
   "outputs": [],
   "source": [
    "import numpy as np\n",
    "\n",
    "### 定义HMM模型\n",
    "class HMM:\n",
    "    def __init__(self, N, M, pi=None, A=None, B=None):\n",
    "        # 可能的状态数\n",
    "        self.N = N\n",
    "        # 可能的观测数\n",
    "        self.M = M\n",
    "        # 初始状态概率向量\n",
    "        self.pi = pi\n",
    "        # 状态转移概率矩阵\n",
    "        self.A = A\n",
    "        # 观测概率矩阵\n",
    "        self.B = B\n",
    "\n",
    "    # 根据给定的概率分布随机返回数据\n",
    "    def rdistribution(self, dist): \n",
    "        r = np.random.rand()\n",
    "        for ix, p in enumerate(dist):\n",
    "            if r < p: \n",
    "                return ix\n",
    "            r -= p\n",
    "\n",
    "    # 生成HMM观测序列\n",
    "    def generate(self, T):\n",
    "        # 根据初始概率分布生成第一个状态\n",
    "        i = self.rdistribution(self.pi)  \n",
    "        # 生成第一个观测数据\n",
    "        o = self.rdistribution(self.B[i])  \n",
    "        observed_data = [o]\n",
    "        # 遍历生成剩下的状态和观测数据\n",
    "        for _ in range(T-1):        \n",
    "            i = self.rdistribution(self.A[i])\n",
    "            o = self.rdistribution(self.B[i])\n",
    "            observed_data.append(o)\n",
    "        return observed_data"
   ]
  },
  {
   "cell_type": "code",
   "execution_count": 46,
   "metadata": {},
   "outputs": [
    {
     "name": "stdout",
     "output_type": "stream",
     "text": [
      "[1, 0, 1, 1, 0]\n"
     ]
    }
   ],
   "source": [
    "# 初始状态概率分布\n",
    "pi = np.array([0.25, 0.25, 0.25, 0.25])\n",
    "# 状态转移概率矩阵\n",
    "A = np.array([\n",
    "    [0,  1,  0, 0],\n",
    "    [0.4, 0, 0.6, 0],\n",
    "    [0, 0.4, 0, 0.6],\n",
    "[0, 0, 0.5, 0.5]])\n",
    "# 观测概率矩阵\n",
    "B = np.array([\n",
    "    [0.5, 0.5],\n",
    "    [0.6, 0.4],\n",
    "    [0.2, 0.8],\n",
    "    [0.3, 0.7]])\n",
    "# 可能的状态数和观测数\n",
    "N = 4\n",
    "M = 2\n",
    "# 创建HMM实例\n",
    "hmm = HMM(N, M, pi, A, B)\n",
    "# 生成观测序列\n",
    "print(hmm.generate(5))"
   ]
  },
  {
   "cell_type": "code",
   "execution_count": 40,
   "metadata": {},
   "outputs": [
    {
     "data": {
      "text/plain": [
       "0.5269384700503777"
      ]
     },
     "execution_count": 40,
     "metadata": {},
     "output_type": "execute_result"
    }
   ],
   "source": [
    "r = np.random.rand()\n",
    "r"
   ]
  },
  {
   "cell_type": "code",
   "execution_count": 34,
   "metadata": {},
   "outputs": [
    {
     "data": {
      "text/plain": [
       "array([0.3, 0.7])"
      ]
     },
     "execution_count": 34,
     "metadata": {},
     "output_type": "execute_result"
    }
   ],
   "source": [
    "B[3]"
   ]
  },
  {
   "cell_type": "code",
   "execution_count": 38,
   "metadata": {},
   "outputs": [
    {
     "ename": "SyntaxError",
     "evalue": "'return' outside function (1233647022.py, line 3)",
     "output_type": "error",
     "traceback": [
      "\u001b[0;36m  Input \u001b[0;32mIn [38]\u001b[0;36m\u001b[0m\n\u001b[0;31m    return(ix)\u001b[0m\n\u001b[0m    ^\u001b[0m\n\u001b[0;31mSyntaxError\u001b[0m\u001b[0;31m:\u001b[0m 'return' outside function\n"
     ]
    }
   ],
   "source": [
    "for ix, p in enumerate(pi):\n",
    "    if r < p: \n",
    "        return(ix)\n",
    "    r -= p"
   ]
  },
  {
   "cell_type": "code",
   "execution_count": 56,
   "metadata": {},
   "outputs": [
    {
     "name": "stdout",
     "output_type": "stream",
     "text": [
      "0.01983169125\n"
     ]
    }
   ],
   "source": [
    "### 前向算法计算条件概率\n",
    "def prob_calc(O):\n",
    "    '''\n",
    "    输入：\n",
    "    O：观测序列\n",
    "    输出：\n",
    "    alpha.sum()：条件概率\n",
    "    '''\n",
    "    # 初值\n",
    "    alpha = pi * B[:, O[0]]\n",
    "    # 递推\n",
    "    for o in O[1:]:\n",
    "        alpha_next = np.empty(4)\n",
    "        for j in range(4):\n",
    "            alpha_next[j] = np.sum(A[:,j] * alpha * B[j,o])\n",
    "        alpha = alpha_next\n",
    "    return alpha.sum()\n",
    "\n",
    "# 给定观测\n",
    "O = [1,0,1,0,0]\n",
    "print(prob_calc(O))"
   ]
  },
  {
   "cell_type": "code",
   "execution_count": 52,
   "metadata": {},
   "outputs": [
    {
     "data": {
      "text/plain": [
       "array([0.5, 0.4, 0.8, 0.7])"
      ]
     },
     "execution_count": 52,
     "metadata": {},
     "output_type": "execute_result"
    }
   ],
   "source": [
    "B[:, O[0]]"
   ]
  },
  {
   "cell_type": "code",
   "execution_count": 54,
   "metadata": {},
   "outputs": [
    {
     "data": {
      "text/plain": [
       "array([0.5, 0.4, 0.8, 0.7])"
      ]
     },
     "execution_count": 54,
     "metadata": {},
     "output_type": "execute_result"
    }
   ],
   "source": [
    "np.empty(4)"
   ]
  },
  {
   "cell_type": "code",
   "execution_count": 57,
   "metadata": {},
   "outputs": [
    {
     "ename": "NameError",
     "evalue": "name 'alpha' is not defined",
     "output_type": "error",
     "traceback": [
      "\u001b[0;31m---------------------------------------------------------------------------\u001b[0m",
      "\u001b[0;31mNameError\u001b[0m                                 Traceback (most recent call last)",
      "Input \u001b[0;32mIn [57]\u001b[0m, in \u001b[0;36m<cell line: 1>\u001b[0;34m()\u001b[0m\n\u001b[0;32m----> 1\u001b[0m \u001b[43malpha\u001b[49m\n",
      "\u001b[0;31mNameError\u001b[0m: name 'alpha' is not defined"
     ]
    }
   ],
   "source": []
  },
  {
   "cell_type": "code",
   "execution_count": 114,
   "metadata": {},
   "outputs": [
    {
     "name": "stdout",
     "output_type": "stream",
     "text": [
      "[0, 1, 2, 3, 3]\n"
     ]
    }
   ],
   "source": [
    "### 序列标注问题和维特比算法\n",
    "def viterbi_decode(O):\n",
    "    '''\n",
    "    输入：\n",
    "    O：观测序列\n",
    "    输出：\n",
    "    path：最优隐状态路径\n",
    "    '''    \n",
    "    # 序列长度和初始观测\n",
    "    T, o = len(O), O[0]\n",
    "    # 初始化delta变量\n",
    "    delta = pi * B[:, o]\n",
    "    # 初始化varphi变量\n",
    "    varphi = np.zeros((T, 4), dtype=int)\n",
    "    path = [0] * T\n",
    "    # 递推\n",
    "    for i in range(1, T):\n",
    "        delta = delta.reshape(-1, 1)     \n",
    "        tmp = delta * A\n",
    "        varphi[i, :] = np.argmax(tmp, axis=0)\n",
    "        delta = np.max(tmp, axis=0) * B[:, O[i]]\n",
    "    # 终止\n",
    "    path[-1] = np.argmax(delta)\n",
    "    # 回溯最优路径\n",
    "    for i in range(T-1, 0, -1):\n",
    "        path[i-1] = varphi[i, path[i]]\n",
    "    return path\n",
    "\n",
    "# 给定观测序列\n",
    "O = [1,0,1,1,0]\n",
    "# 输出最可能的隐状态序列\n",
    "print(viterbi_decode(O))"
   ]
  },
  {
   "cell_type": "code",
   "execution_count": 154,
   "metadata": {},
   "outputs": [],
   "source": [
    "T, o = len(O), O[0]"
   ]
  },
  {
   "cell_type": "code",
   "execution_count": 155,
   "metadata": {},
   "outputs": [],
   "source": [
    "delta = pi * B[:, o]"
   ]
  },
  {
   "cell_type": "code",
   "execution_count": 156,
   "metadata": {},
   "outputs": [
    {
     "data": {
      "text/plain": [
       "array([[0, 0, 0, 0],\n",
       "       [0, 0, 0, 0],\n",
       "       [0, 0, 0, 0],\n",
       "       [0, 0, 0, 0],\n",
       "       [0, 0, 0, 0]])"
      ]
     },
     "execution_count": 156,
     "metadata": {},
     "output_type": "execute_result"
    }
   ],
   "source": [
    "varphi = np.zeros((T, 4), dtype=int)\n",
    "varphi"
   ]
  },
  {
   "cell_type": "code",
   "execution_count": 157,
   "metadata": {},
   "outputs": [],
   "source": [
    "path = [0] * T"
   ]
  },
  {
   "cell_type": "code",
   "execution_count": 158,
   "metadata": {},
   "outputs": [
    {
     "data": {
      "text/plain": [
       "array([0.125, 0.1  , 0.2  , 0.175])"
      ]
     },
     "execution_count": 158,
     "metadata": {},
     "output_type": "execute_result"
    }
   ],
   "source": [
    "delta"
   ]
  },
  {
   "cell_type": "code",
   "execution_count": 160,
   "metadata": {},
   "outputs": [
    {
     "data": {
      "text/plain": [
       "array([[0.125],\n",
       "       [0.1  ],\n",
       "       [0.2  ],\n",
       "       [0.175]])"
      ]
     },
     "execution_count": 160,
     "metadata": {},
     "output_type": "execute_result"
    }
   ],
   "source": [
    "delta = delta.reshape(-1, 1)\n",
    "delta"
   ]
  },
  {
   "cell_type": "code",
   "execution_count": 161,
   "metadata": {},
   "outputs": [
    {
     "data": {
      "text/plain": [
       "array([[0.    , 0.125 , 0.    , 0.    ],\n",
       "       [0.04  , 0.    , 0.06  , 0.    ],\n",
       "       [0.    , 0.08  , 0.    , 0.12  ],\n",
       "       [0.    , 0.    , 0.0875, 0.0875]])"
      ]
     },
     "execution_count": 161,
     "metadata": {},
     "output_type": "execute_result"
    }
   ],
   "source": [
    "tmp = delta * A\n",
    "tmp"
   ]
  },
  {
   "cell_type": "code",
   "execution_count": 163,
   "metadata": {},
   "outputs": [
    {
     "data": {
      "text/plain": [
       "array([1, 0, 3, 2])"
      ]
     },
     "execution_count": 163,
     "metadata": {},
     "output_type": "execute_result"
    }
   ],
   "source": [
    "np.argmax(tmp, axis=0)"
   ]
  },
  {
   "cell_type": "code",
   "execution_count": 164,
   "metadata": {},
   "outputs": [
    {
     "data": {
      "text/plain": [
       "array([[0, 0, 0, 0],\n",
       "       [1, 0, 3, 2],\n",
       "       [0, 0, 0, 0],\n",
       "       [0, 0, 0, 0],\n",
       "       [0, 0, 0, 0]])"
      ]
     },
     "execution_count": 164,
     "metadata": {},
     "output_type": "execute_result"
    }
   ],
   "source": [
    "varphi[1, :] = np.argmax(tmp, axis=0)\n",
    "varphi"
   ]
  },
  {
   "cell_type": "code",
   "execution_count": 166,
   "metadata": {},
   "outputs": [
    {
     "data": {
      "text/plain": [
       "array([0.04  , 0.125 , 0.0875, 0.12  ])"
      ]
     },
     "execution_count": 166,
     "metadata": {},
     "output_type": "execute_result"
    }
   ],
   "source": [
    "np.max(tmp,axis=0)"
   ]
  },
  {
   "cell_type": "code",
   "execution_count": 165,
   "metadata": {},
   "outputs": [
    {
     "data": {
      "text/plain": [
       "array([0.02  , 0.075 , 0.0175, 0.036 ])"
      ]
     },
     "execution_count": 165,
     "metadata": {},
     "output_type": "execute_result"
    }
   ],
   "source": [
    "delta=np.max(tmp, axis=0) * B[:, O[1]] #不同与argmax返回的是索引\n",
    "delta"
   ]
  },
  {
   "cell_type": "code",
   "execution_count": 125,
   "metadata": {},
   "outputs": [
    {
     "data": {
      "text/plain": [
       "[0, 0, 0, 0, 1]"
      ]
     },
     "execution_count": 125,
     "metadata": {},
     "output_type": "execute_result"
    }
   ],
   "source": [
    "path[-1] = np.argmax(delta)\n",
    "path"
   ]
  },
  {
   "cell_type": "code",
   "execution_count": 126,
   "metadata": {},
   "outputs": [
    {
     "data": {
      "text/plain": [
       "[4, 3, 2, 1]"
      ]
     },
     "execution_count": 126,
     "metadata": {},
     "output_type": "execute_result"
    }
   ],
   "source": [
    "list(range(4,0,-1))"
   ]
  },
  {
   "cell_type": "code",
   "execution_count": 143,
   "metadata": {},
   "outputs": [],
   "source": [
    " for i in range(1, T):\n",
    "        delta = delta.reshape(-1, 1)     \n",
    "        tmp = delta * A\n",
    "        varphi[i, :] = np.argmax(tmp, axis=0)\n",
    "        delta = np.max(tmp, axis=0) * B[:, O[i]]"
   ]
  },
  {
   "cell_type": "code",
   "execution_count": 144,
   "metadata": {},
   "outputs": [
    {
     "data": {
      "text/plain": [
       "array([2.2118400e-08, 5.3084160e-08, 2.7869184e-08, 4.1803776e-08])"
      ]
     },
     "execution_count": 144,
     "metadata": {},
     "output_type": "execute_result"
    }
   ],
   "source": [
    "delta"
   ]
  },
  {
   "cell_type": "code",
   "execution_count": 145,
   "metadata": {},
   "outputs": [
    {
     "data": {
      "text/plain": [
       "array([[0, 0, 0, 0],\n",
       "       [1, 0, 1, 3],\n",
       "       [1, 0, 1, 2],\n",
       "       [1, 0, 1, 2],\n",
       "       [1, 0, 3, 3]])"
      ]
     },
     "execution_count": 145,
     "metadata": {},
     "output_type": "execute_result"
    }
   ],
   "source": [
    "varphi"
   ]
  },
  {
   "cell_type": "code",
   "execution_count": 146,
   "metadata": {},
   "outputs": [
    {
     "data": {
      "text/plain": [
       "[0, 0, 0, 0, 0]"
      ]
     },
     "execution_count": 146,
     "metadata": {},
     "output_type": "execute_result"
    }
   ],
   "source": [
    "path = [0]*T\n",
    "path"
   ]
  },
  {
   "cell_type": "code",
   "execution_count": 147,
   "metadata": {},
   "outputs": [
    {
     "name": "stdout",
     "output_type": "stream",
     "text": [
      "[0, 0, 0, 0, 1]\n",
      "[0, 0, 1, 0, 1]\n",
      "[0, 0, 1, 0, 1]\n",
      "[1, 0, 1, 0, 1]\n"
     ]
    }
   ],
   "source": [
    "path[-1] = np.argmax(delta)\n",
    "    # 回溯最优路径\n",
    "for i in range(T-1, 0, -1):\n",
    "        path[i-1] = varphi[i, path[i]]\n",
    "        print(path)\n"
   ]
  },
  {
   "cell_type": "code",
   "execution_count": 148,
   "metadata": {},
   "outputs": [
    {
     "data": {
      "text/plain": [
       "1"
      ]
     },
     "execution_count": 148,
     "metadata": {},
     "output_type": "execute_result"
    }
   ],
   "source": [
    "np.argmax(delta)"
   ]
  },
  {
   "cell_type": "code",
   "execution_count": 171,
   "metadata": {},
   "outputs": [
    {
     "name": "stdout",
     "output_type": "stream",
     "text": [
      "[0, 1, 0, 0, 0]\n",
      "[0, 1, 2, 0, 0]\n",
      "[0, 1, 2, 3, 0]\n",
      "[0, 1, 2, 3, 3]\n"
     ]
    }
   ],
   "source": [
    "T, o = len(O), O[0]\n",
    "    # 初始化delta变量\n",
    "delta = pi * B[:, o]\n",
    "    # 初始化varphi变量\n",
    "varphi = np.zeros((T, 4), dtype=int)\n",
    "path = [0] * T\n",
    "    # 递推\n",
    "for i in range(1, T):\n",
    "        delta = delta.reshape(-1, 1)     \n",
    "        tmp = delta * A\n",
    "        varphi[i, :] = np.argmax(tmp, axis=0)\n",
    "        delta = np.max(tmp, axis=0) * B[:, O[i]]\n",
    "        path[i]=np.argmax(delta)\n",
    "        print(path)"
   ]
  },
  {
   "cell_type": "code",
   "execution_count": 152,
   "metadata": {},
   "outputs": [
    {
     "data": {
      "text/plain": [
       "array([0.0012   , 0.0012096, 0.001512 , 0.002268 ])"
      ]
     },
     "execution_count": 152,
     "metadata": {},
     "output_type": "execute_result"
    }
   ],
   "source": [
    "delta"
   ]
  },
  {
   "cell_type": "code",
   "execution_count": 153,
   "metadata": {},
   "outputs": [
    {
     "data": {
      "text/plain": [
       "array([[0, 0, 0, 0],\n",
       "       [1, 0, 3, 2],\n",
       "       [1, 0, 1, 3],\n",
       "       [1, 0, 3, 2],\n",
       "       [1, 2, 3, 3]])"
      ]
     },
     "execution_count": 153,
     "metadata": {},
     "output_type": "execute_result"
    }
   ],
   "source": [
    "varphi"
   ]
  },
  {
   "cell_type": "code",
   "execution_count": null,
   "metadata": {},
   "outputs": [],
   "source": []
  }
 ],
 "metadata": {
  "kernelspec": {
   "display_name": "Python 3 (ipykernel)",
   "language": "python",
   "name": "python3"
  },
  "language_info": {
   "codemirror_mode": {
    "name": "ipython",
    "version": 3
   },
   "file_extension": ".py",
   "mimetype": "text/x-python",
   "name": "python",
   "nbconvert_exporter": "python",
   "pygments_lexer": "ipython3",
   "version": "3.9.12"
  },
  "toc": {
   "base_numbering": 1,
   "nav_menu": {},
   "number_sections": true,
   "sideBar": true,
   "skip_h1_title": false,
   "title_cell": "Table of Contents",
   "title_sidebar": "Contents",
   "toc_cell": false,
   "toc_position": {},
   "toc_section_display": true,
   "toc_window_display": false
  }
 },
 "nbformat": 4,
 "nbformat_minor": 2
}
