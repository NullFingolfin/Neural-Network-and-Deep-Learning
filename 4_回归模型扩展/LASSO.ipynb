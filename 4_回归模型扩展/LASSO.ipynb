{
 "cells": [
  {
   "cell_type": "code",
   "execution_count": 1,
   "id": "037b7e0e",
   "metadata": {},
   "outputs": [],
   "source": [
    "import numpy as np"
   ]
  },
  {
   "cell_type": "code",
   "execution_count": 2,
   "id": "1569f1e2",
   "metadata": {},
   "outputs": [],
   "source": [
    "#定义符号函数\n",
    "def sign(x):\n",
    "    if x > 0:\n",
    "        return 1\n",
    "    elif x < 0:\n",
    "        return -1\n",
    "    else:\n",
    "        return 0\n",
    "#使用numpy对其进行向量化\n",
    "vec_sign = np.vectorize(sign)"
   ]
  },
  {
   "cell_type": "code",
   "execution_count": 3,
   "id": "25db34d2",
   "metadata": {},
   "outputs": [
    {
     "data": {
      "text/plain": [
       "array([ 1,  1,  1, -1,  0,  0,  1])"
      ]
     },
     "execution_count": 3,
     "metadata": {},
     "output_type": "execute_result"
    }
   ],
   "source": [
    "a = [1,2,3,-1,0,0,2]\n",
    "a\n",
    "vec_sign(a)"
   ]
  },
  {
   "cell_type": "code",
   "execution_count": 4,
   "id": "c48c387e",
   "metadata": {},
   "outputs": [],
   "source": [
    "#LASSO 回归损失函数\n",
    "def l1_loss(X, y, w, b, alpha):\n",
    "    '''\n",
    "    输入：\n",
    "    X：输入变量矩阵\n",
    "    y：输出标签变量\n",
    "    w：变量参数的权重矩阵\n",
    "    b：偏置\n",
    "    alpha：正则化系数\n",
    "    输出：\n",
    "    y_hat:线性模型预测输出\n",
    "    loss：均方损失值\n",
    "    dw：权重系数一阶偏导\n",
    "    db：偏置一阶偏导\n",
    "    '''\n",
    "    num_train = X.shape[0]\n",
    "    num_feature = X.shape[1]\n",
    "    y_hat = np.dot(X, w) + b\n",
    "    loss = np.sum((y_hat-y)**2)/num_train + np.sum(alpha*abs(w))\n",
    "    dw = np.dot(X.T, (y_hat-y)) /num_train + alpha * vec_sign(w)\n",
    "    db = np.sum((y_hat-y)) /num_train\n",
    "    return y_hat, loss, dw, db"
   ]
  },
  {
   "cell_type": "code",
   "execution_count": 5,
   "id": "da3c7119",
   "metadata": {},
   "outputs": [],
   "source": [
    "#初始化模型参数\n",
    "def initialize_params(dims):\n",
    "    '''\n",
    "    输入：\n",
    "    dims：训练数据变量维度\n",
    "    输出：\n",
    "    w：初始化权重特征系数\n",
    "    b：初始化偏置参数值\n",
    "    '''\n",
    "    w = np.zeros((dims,1))\n",
    "    b = 0\n",
    "    return w,b"
   ]
  },
  {
   "cell_type": "code",
   "execution_count": 32,
   "id": "159cad7c",
   "metadata": {},
   "outputs": [],
   "source": [
    "#LASSO回归模型的训练过程\n",
    "def LASSO_train(X,y,learning_rate = 0.01,epochs = 1000):\n",
    "    '''\n",
    "    输入：\n",
    "    X：输入变量矩阵\n",
    "    y：输出标签向量\n",
    "    learning_rate：学习率\n",
    "    epochs：训练迭代次数\n",
    "    输出：\n",
    "    loss_his:每次迭代的L1损失\n",
    "    params：优化后的参数字典\n",
    "    grades：优化后的参数梯度字典\n",
    "    '''\n",
    "    loss_his = []\n",
    "    w,b = initialize_params(X.shape[1])\n",
    "    for i in range(1,epochs):\n",
    "        y_hat,loss,dw,db = l1_loss(X,y,w,b,0.1)\n",
    "        w += -learning_rate * dw\n",
    "        b += -learning_rate * db\n",
    "        loss_his.append(loss)\n",
    "        if i % 50 == 0:\n",
    "            print('epoch %d loss %f' % (i,loss))\n",
    "        params = {\n",
    "            'w' : w,\n",
    "            'b' : b\n",
    "        }\n",
    "        grades = {\n",
    "            'dw' : dw,\n",
    "            'db' : db\n",
    "        }\n",
    "    return loss,loss_his,params,grades"
   ]
  },
  {
   "cell_type": "code",
   "execution_count": 50,
   "id": "3719e4f6",
   "metadata": {},
   "outputs": [
    {
     "data": {
      "text/plain": [
       "array([[-1.14558, -1.29249,  0.84911, ...,  1.5532 , -1.42135,  1.19238],\n",
       "       [ 1.38724, -1.00201, -0.3337 , ...,  0.81903,  0.39286, -3.44094],\n",
       "       [ 1.47233,  0.8488 , -0.33866, ...,  0.08911, -1.72476,  3.75006],\n",
       "       ...,\n",
       "       [-0.83673,  0.80514,  0.00807, ..., -1.64165,  2.04662,  1.84121],\n",
       "       [ 1.12062,  0.68561, -1.08   , ...,  1.1926 ,  0.33696,  3.53143],\n",
       "       [-0.28943, -0.22213, -0.52226, ...,  0.22531,  1.72576, -0.55118]])"
      ]
     },
     "execution_count": 50,
     "metadata": {},
     "output_type": "execute_result"
    }
   ],
   "source": [
    "data = np.genfromtxt('example.dat',delimiter=',')\n",
    "#读取文件 以‘，’分隔。 要求文件在目录之下\n",
    "data"
   ]
  },
  {
   "cell_type": "code",
   "execution_count": 14,
   "id": "b4967e95",
   "metadata": {},
   "outputs": [],
   "source": [
    "x = data[:,0:100]\n",
    "y = data[:,100].reshape(-1,1)"
   ]
  },
  {
   "cell_type": "code",
   "execution_count": 16,
   "id": "1dff3092",
   "metadata": {},
   "outputs": [
    {
     "data": {
      "text/plain": [
       "array([[ 1.     , -1.14558, -1.29249, ...,  0.78098,  1.5532 , -1.42135],\n",
       "       [ 1.     ,  1.38724, -1.00201, ...,  0.59131,  0.81903,  0.39286],\n",
       "       [ 1.     ,  1.47233,  0.8488 , ..., -0.87872,  0.08911, -1.72476],\n",
       "       ...,\n",
       "       [ 1.     , -0.83673,  0.80514, ...,  0.58731, -1.64165,  2.04662],\n",
       "       [ 1.     ,  1.12062,  0.68561, ..., -1.70956,  1.1926 ,  0.33696],\n",
       "       [ 1.     , -0.28943, -0.22213, ..., -0.67605,  0.22531,  1.72576]])"
      ]
     },
     "execution_count": 16,
     "metadata": {},
     "output_type": "execute_result"
    }
   ],
   "source": [
    "X = np.column_stack((np.ones((x.shape[0],1)),x)) #列合并\n",
    "X"
   ]
  },
  {
   "cell_type": "code",
   "execution_count": 51,
   "id": "d3945c34",
   "metadata": {},
   "outputs": [
    {
     "name": "stdout",
     "output_type": "stream",
     "text": [
      "(70, 101) (70, 1) (31, 101) (31, 1)\n"
     ]
    }
   ],
   "source": [
    "#划分训练集，测试集\n",
    "X_train, y_train = X[:70],y[:70]\n",
    "X_test, y_test = X[70:],y[70:]\n",
    "print(X_train.shape,y_train.shape,X_test.shape,y_test.shape)"
   ]
  },
  {
   "cell_type": "code",
   "execution_count": 52,
   "id": "c1d24dcf",
   "metadata": {},
   "outputs": [
    {
     "name": "stdout",
     "output_type": "stream",
     "text": [
      "epoch 50 loss 3.197738\n",
      "epoch 100 loss 2.297934\n",
      "epoch 150 loss 1.990075\n",
      "epoch 200 loss 1.832027\n",
      "epoch 250 loss 1.734467\n",
      "epoch 300 loss 1.673867\n",
      "epoch 350 loss 1.634849\n",
      "epoch 400 loss 1.608013\n",
      "epoch 450 loss 1.589218\n",
      "epoch 500 loss 1.574882\n",
      "epoch 550 loss 1.564602\n",
      "epoch 600 loss 1.555281\n",
      "epoch 650 loss 1.547883\n",
      "epoch 700 loss 1.541879\n",
      "epoch 750 loss 1.536293\n",
      "epoch 800 loss 1.531741\n",
      "epoch 850 loss 1.528096\n",
      "epoch 900 loss 1.524316\n",
      "epoch 950 loss 1.521818\n",
      "epoch 1000 loss 1.518578\n",
      "epoch 1050 loss 1.516412\n",
      "epoch 1100 loss 1.514460\n",
      "epoch 1150 loss 1.513244\n",
      "epoch 1200 loss 1.511976\n",
      "epoch 1250 loss 1.511534\n",
      "epoch 1300 loss 1.510989\n",
      "epoch 1350 loss 1.510589\n",
      "epoch 1400 loss 1.509908\n",
      "epoch 1450 loss 1.509691\n",
      "epoch 1500 loss 1.509368\n",
      "epoch 1550 loss 1.509832\n",
      "epoch 1600 loss 1.509245\n",
      "epoch 1650 loss 1.509063\n",
      "epoch 1700 loss 1.508948\n",
      "epoch 1750 loss 1.508914\n",
      "epoch 1800 loss 1.508463\n",
      "epoch 1850 loss 1.508642\n",
      "epoch 1900 loss 1.508507\n",
      "epoch 1950 loss 1.508982\n",
      "epoch 2000 loss 1.508604\n",
      "epoch 2050 loss 1.508396\n",
      "epoch 2100 loss 1.508338\n",
      "epoch 2150 loss 1.508702\n",
      "epoch 2200 loss 1.508641\n",
      "epoch 2250 loss 1.508787\n",
      "epoch 2300 loss 1.508918\n",
      "epoch 2350 loss 1.508619\n",
      "epoch 2400 loss 1.508864\n",
      "epoch 2450 loss 1.509386\n",
      "epoch 2500 loss 1.508649\n",
      "epoch 2550 loss 1.509376\n",
      "epoch 2600 loss 1.509364\n",
      "epoch 2650 loss 1.509528\n",
      "epoch 2700 loss 1.509530\n",
      "epoch 2750 loss 1.509298\n",
      "epoch 2800 loss 1.509487\n",
      "epoch 2850 loss 1.509398\n",
      "epoch 2900 loss 1.509846\n",
      "epoch 2950 loss 1.509299\n",
      "{'w': array([[-4.15287071e-04],\n",
      "       [-1.41146247e-04],\n",
      "       [ 5.93911643e-01],\n",
      "       [ 6.33518504e-01],\n",
      "       [ 5.02749849e-04],\n",
      "       [ 9.98579102e-01],\n",
      "       [-9.55002381e-05],\n",
      "       [ 8.20516431e-01],\n",
      "       [-2.38262290e-01],\n",
      "       [ 6.40435429e-04],\n",
      "       [ 4.33006493e-04],\n",
      "       [ 7.92352389e-01],\n",
      "       [ 2.29087658e-04],\n",
      "       [ 7.38414989e-01],\n",
      "       [-2.88069963e-04],\n",
      "       [-1.28572747e-01],\n",
      "       [ 2.92098422e-04],\n",
      "       [ 7.84412804e-01],\n",
      "       [-8.43058310e-04],\n",
      "       [ 8.19502197e-01],\n",
      "       [ 1.23168002e-03],\n",
      "       [ 1.31828725e-03],\n",
      "       [ 2.16775072e-04],\n",
      "       [ 5.61334435e-01],\n",
      "       [ 2.15957743e-04],\n",
      "       [-9.00543335e-04],\n",
      "       [-5.32628338e-05],\n",
      "       [-1.35244745e-03],\n",
      "       [ 3.41327350e-04],\n",
      "       [ 4.88380673e-01],\n",
      "       [-3.21934322e-04],\n",
      "       [-4.92098684e-04],\n",
      "       [-5.52556582e-05],\n",
      "       [ 1.14506409e-03],\n",
      "       [-6.17908957e-04],\n",
      "       [-5.91563816e-04],\n",
      "       [ 4.81635830e-04],\n",
      "       [-2.03838505e-04],\n",
      "       [ 5.70843433e-04],\n",
      "       [-1.02997799e-03],\n",
      "       [-5.41688543e-04],\n",
      "       [-2.80501350e-04],\n",
      "       [ 1.01831397e-03],\n",
      "       [-1.02513280e-03],\n",
      "       [-5.67446035e-03],\n",
      "       [ 1.57539920e-03],\n",
      "       [ 1.05299647e-03],\n",
      "       [-1.25031496e-03],\n",
      "       [-4.57033924e-04],\n",
      "       [ 2.80960480e-02],\n",
      "       [-7.01356582e-04],\n",
      "       [ 9.67947406e-05],\n",
      "       [ 1.38729909e-03],\n",
      "       [-2.57912976e-04],\n",
      "       [ 1.19841336e-03],\n",
      "       [-6.46634419e-02],\n",
      "       [ 2.50948657e-01],\n",
      "       [-5.00371932e-05],\n",
      "       [-4.40220993e-02],\n",
      "       [-4.37541549e-04],\n",
      "       [ 1.06262100e-01],\n",
      "       [ 2.98647938e-02],\n",
      "       [ 5.06088282e-04],\n",
      "       [ 4.31162411e-04],\n",
      "       [-3.00048540e-04],\n",
      "       [-7.04670616e-04],\n",
      "       [ 2.86269167e-04],\n",
      "       [ 4.30188654e-05],\n",
      "       [-7.99507450e-04],\n",
      "       [ 1.31565503e-01],\n",
      "       [ 2.38698566e-01],\n",
      "       [-1.27894614e-03],\n",
      "       [ 3.36401471e-04],\n",
      "       [ 1.69243777e-01],\n",
      "       [ 1.28923023e-03],\n",
      "       [ 1.34506647e-02],\n",
      "       [ 6.29940607e-04],\n",
      "       [-1.65676707e-04],\n",
      "       [ 1.52368698e-03],\n",
      "       [ 6.43832617e-04],\n",
      "       [-4.62918316e-04],\n",
      "       [ 2.02336791e-01],\n",
      "       [-9.00209208e-04],\n",
      "       [ 1.46776652e-04],\n",
      "       [-5.34465461e-04],\n",
      "       [-4.20940478e-02],\n",
      "       [-1.05761995e-01],\n",
      "       [-2.33072586e-04],\n",
      "       [ 2.50439768e-02],\n",
      "       [-1.11204952e-01],\n",
      "       [ 2.64797539e-04],\n",
      "       [-5.29798592e-04],\n",
      "       [ 1.33831974e-01],\n",
      "       [ 5.85296823e-04],\n",
      "       [ 7.84405265e-05],\n",
      "       [-5.49019464e-02],\n",
      "       [-3.27370034e-04],\n",
      "       [ 9.52406800e-02],\n",
      "       [ 3.76881860e-05],\n",
      "       [-1.77746005e-01],\n",
      "       [ 6.70895894e-02]]), 'b': -0.24041528707142965}\n"
     ]
    }
   ],
   "source": [
    "#LOSS回归训练\n",
    "loss,loss_list,params,grads = LASSO_train(X_train,y_train,0.01,3000)\n",
    "print(params)"
   ]
  },
  {
   "cell_type": "code",
   "execution_count": 53,
   "id": "cf474033",
   "metadata": {},
   "outputs": [
    {
     "data": {
      "text/plain": [
       "array([[-0.46873492],\n",
       "       [-2.8694067 ],\n",
       "       [ 0.44566828],\n",
       "       [-0.55241025],\n",
       "       [-3.15848274]])"
      ]
     },
     "execution_count": 53,
     "metadata": {},
     "output_type": "execute_result"
    }
   ],
   "source": [
    "# 定义预测函数\n",
    "def predict(X, params):\n",
    "    w = params['w']\n",
    "    b = params['b']\n",
    "    \n",
    "    y_pred = np.dot(X, w) + b\n",
    "    return y_pred\n",
    "\n",
    "y_pred = predict(X_test, params)\n",
    "y_pred[:5]"
   ]
  },
  {
   "cell_type": "code",
   "execution_count": 54,
   "id": "4ef31219",
   "metadata": {},
   "outputs": [
    {
     "data": {
      "text/plain": [
       "array([[ 0.24671],\n",
       "       [-4.25711],\n",
       "       [ 2.38642],\n",
       "       [-1.87815],\n",
       "       [-3.41362]])"
      ]
     },
     "execution_count": 54,
     "metadata": {},
     "output_type": "execute_result"
    }
   ],
   "source": [
    "y_test[:5]"
   ]
  },
  {
   "cell_type": "code",
   "execution_count": 55,
   "id": "2b17d163",
   "metadata": {},
   "outputs": [
    {
     "data": {
      "text/plain": [
       "0.5704547131357189"
      ]
     },
     "execution_count": 55,
     "metadata": {},
     "output_type": "execute_result"
    }
   ],
   "source": [
    "from sklearn.metrics import r2_score\n",
    "r2_score(y_pred, y_test)"
   ]
  },
  {
   "cell_type": "code",
   "execution_count": 56,
   "id": "b34a8069",
   "metadata": {},
   "outputs": [
    {
     "data": {
      "image/png": "[encoded data removed]",
      "text/plain": [
       "<Figure size 432x288 with 1 Axes>"
      ]
     },
     "metadata": {
      "needs_background": "light"
     },
     "output_type": "display_data"
    }
   ],
   "source": [
    "# 简单绘图\n",
    "import matplotlib.pyplot as plt\n",
    "f = X_test.dot(params['w']) + params['b']\n",
    "\n",
    "plt.scatter(range(X_test.shape[0]), y_test)\n",
    "plt.plot(f, color = 'darkorange')\n",
    "plt.xlabel('X')\n",
    "plt.ylabel('y')\n",
    "plt.show();"
   ]
  },
  {
   "cell_type": "code",
   "execution_count": 57,
   "id": "1c6e693d",
   "metadata": {},
   "outputs": [
    {
     "data": {
      "image/png": "[encoded data removed]",
      "text/plain": [
       "<Figure size 432x288 with 1 Axes>"
      ]
     },
     "metadata": {
      "needs_background": "light"
     },
     "output_type": "display_data"
    }
   ],
   "source": [
    "# 训练过程中的损失下降\n",
    "plt.plot(loss_list, color = 'blue')\n",
    "plt.xlabel('epochs')\n",
    "plt.ylabel('loss')\n",
    "plt.show()"
   ]
  },
  {
   "cell_type": "code",
   "execution_count": 58,
   "id": "7d8395c6",
   "metadata": {},
   "outputs": [
    {
     "name": "stdout",
     "output_type": "stream",
     "text": [
      "sklearn Lasso intercept : [-0.23824815]\n",
      "\n",
      "sklearn Lasso coefficients :\n",
      " [ 0.         -0.          0.59804516  0.64230683  0.          1.0070841\n",
      " -0.          0.81815409 -0.22756851  0.          0.          0.793601\n",
      "  0.          0.74108335 -0.         -0.1250168  -0.          0.79407074\n",
      "  0.          0.81867433  0.          0.         -0.          0.56664364\n",
      " -0.         -0.         -0.         -0.         -0.          0.49526526\n",
      "  0.          0.          0.          0.         -0.         -0.\n",
      " -0.         -0.         -0.         -0.          0.         -0.\n",
      "  0.         -0.         -0.0078254   0.          0.         -0.\n",
      " -0.          0.01986066  0.         -0.          0.         -0.\n",
      "  0.         -0.06797763  0.24581414  0.         -0.04180909 -0.\n",
      "  0.10542471  0.03156005  0.          0.          0.         -0.\n",
      " -0.          0.         -0.          0.12548825  0.2340209  -0.\n",
      "  0.          0.16875552  0.          0.01596168  0.         -0.\n",
      "  0.          0.         -0.          0.20050804 -0.         -0.\n",
      "  0.         -0.04148499 -0.10729826 -0.          0.02385741 -0.10792259\n",
      " -0.         -0.          0.12314032  0.          0.         -0.05876521\n",
      " -0.          0.09361648 -0.         -0.17806356  0.06636851]\n",
      "\n",
      "sklearn Lasso number of iterations : 24\n"
     ]
    }
   ],
   "source": [
    "# 导入线性模型模块\n",
    "from sklearn import linear_model\n",
    "# 创建lasso模型实例\n",
    "sk_lasso = linear_model.Lasso(alpha=0.1)\n",
    "# 对训练集进行拟合\n",
    "sk_lasso.fit(X_train, y_train)\n",
    "# 打印模型相关系数\n",
    "print(\"sklearn Lasso intercept :\", sk_lasso.intercept_)\n",
    "print(\"\\nsklearn Lasso coefficients :\\n\", sk_lasso.coef_)\n",
    "print(\"\\nsklearn Lasso number of iterations :\", sk_lasso.n_iter_)"
   ]
  },
  {
   "cell_type": "code",
   "execution_count": null,
   "id": "eb0493fc",
   "metadata": {},
   "outputs": [],
   "source": []
  }
 ],
 "metadata": {
  "celltoolbar": "Tags",
  "kernelspec": {
   "display_name": "Python 3 (ipykernel)",
   "language": "python",
   "name": "python3"
  },
  "language_info": {
   "codemirror_mode": {
    "name": "ipython",
    "version": 3
   },
   "file_extension": ".py",
   "mimetype": "text/x-python",
   "name": "python",
   "nbconvert_exporter": "python",
   "pygments_lexer": "ipython3",
   "version": "3.9.12"
  }
 },
 "nbformat": 4,
 "nbformat_minor": 5
}
