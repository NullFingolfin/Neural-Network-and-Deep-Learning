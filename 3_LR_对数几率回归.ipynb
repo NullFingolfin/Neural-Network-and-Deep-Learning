{
 "cells": [
  {
   "cell_type": "code",
   "execution_count": 1,
   "id": "a1e28ebb",
   "metadata": {},
   "outputs": [],
   "source": [
    "import numpy as np"
   ]
  },
  {
   "cell_type": "code",
   "execution_count": 2,
   "id": "55569d5b",
   "metadata": {},
   "outputs": [],
   "source": [
    "def sigmoid(x):\n",
    "    '''\n",
    "    输入：\n",
    "    x：数组\n",
    "    输出：\n",
    "    z：经过sigmoud函数计算后的数组\n",
    "    '''\n",
    "    z =1 / (1+np.exp(-x))\n",
    "    return z\n"
   ]
  },
  {
   "cell_type": "code",
   "execution_count": 3,
   "id": "b26a1e9a",
   "metadata": {},
   "outputs": [],
   "source": [
    "def initialize_params(dims):\n",
    "    '''\n",
    "    输入：\n",
    "    dims：参数维度\n",
    "    输出：\n",
    "    z：初始化后的参数向量w和参数值b\n",
    "    '''\n",
    "    W = np.zeros((dims,1))\n",
    "    b = 0\n",
    "    return W,b\n"
   ]
  },
  {
   "cell_type": "code",
   "execution_count": 4,
   "id": "eaea77a8",
   "metadata": {},
   "outputs": [],
   "source": [
    "def logistic(X,y,W,b):\n",
    "    '''\n",
    "    输入：\n",
    "    X: 输入特征矩阵\n",
    "    y: 输出标签向量\n",
    "    W: 权值参数\n",
    "    b: 偏置参数\n",
    "    输出：\n",
    "    a: 逻辑回归模型输出\n",
    "    cost: 损失\n",
    "    dW: 权值梯度\n",
    "    db: 偏置梯度\n",
    "    '''\n",
    "    # 训练样本量\n",
    "    num_train = X.shape[0]\n",
    "    # 训练特征数\n",
    "    num_feature = X.shape[1]\n",
    "    # 逻辑回归模型输出\n",
    "    a = sigmoid(np.dot(X, W) + b)\n",
    "    # 交叉熵损失\n",
    "    cost = -1/num_train * np.sum(y*np.log(a) + (1-y)*np.log(1-a))\n",
    "    # 权值梯度\n",
    "    dW = np.dot(X.T, (a-y))/num_train\n",
    "    # 偏置梯度\n",
    "    db = np.sum(a-y)/num_train\n",
    "    # 压缩损失数组维度\n",
    "    cost = np.squeeze(cost) \n",
    "    #np.aqueeze()函数不改变数组内容，起作用是从数组形状中删去单维度条目\n",
    "    #在机器学习和深度学习中，通常算法的结果是可以表示向量的数组（即包含两对或以上的方括号形式[[]]）\n",
    "    #如果直接利用这个数组进行画图可能显示界面为空（见后面的示例）。我们可以利用squeeze（）\n",
    "    #函数将表示向量的数组转换为秩为1的数组，这样利用matplotlib库函数画图时，就可以正常的显示结果了\n",
    "    return a, cost, dW, db"
   ]
  },
  {
   "cell_type": "code",
   "execution_count": 5,
   "id": "806689f6",
   "metadata": {},
   "outputs": [],
   "source": [
    "### 定义逻辑回归模型训练过程\n",
    "def logistic_train(X, y, learning_rate, epochs):\n",
    "    '''\n",
    "    输入：\n",
    "    X: 输入特征矩阵\n",
    "    y: 输出标签向量\n",
    "    learning_rate: 学习率\n",
    "    epochs: 训练轮数\n",
    "    输出：\n",
    "    cost_list: 损失列表\n",
    "    params: 模型参数\n",
    "    grads: 参数梯度\n",
    "    '''\n",
    "    # 初始化模型参数\n",
    "    W, b = initialize_params(X.shape[1])  \n",
    "    # 初始化损失列表\n",
    "    cost_list = []  \n",
    "    \n",
    "    # 迭代训练\n",
    "    for i in range(epochs):\n",
    "        # 计算当前次的模型计算结果、损失和参数梯度\n",
    "        a, cost, dW, db = logistic(X, y, W, b)    \n",
    "        # 参数更新\n",
    "        W = W -learning_rate * dW\n",
    "        b = b -learning_rate * db        \n",
    "        # 记录损失\n",
    "        if i % 100 == 0:\n",
    "            cost_list.append(cost)   \n",
    "        # 打印训练过程中的损失 \n",
    "        if i % 100 == 0:\n",
    "            print('epoch %d cost %f' % (i, cost)) \n",
    "               \n",
    "    # 保存参数\n",
    "    params = {            \n",
    "        'W': W,            \n",
    "        'b': b\n",
    "    }        \n",
    "\n",
    "    # 保存梯度\n",
    "    grads = {            \n",
    "        'dW': dW,            \n",
    "        'db': db\n",
    "    }                \n",
    "    return cost_list, params, grads"
   ]
  },
  {
   "cell_type": "code",
   "execution_count": 6,
   "id": "88ce11de",
   "metadata": {},
   "outputs": [],
   "source": [
    "### 定义预测函数\n",
    "def predict(X, params):\n",
    "    '''\n",
    "    输入：\n",
    "    X: 输入特征矩阵\n",
    "    params: 训练好的模型参数\n",
    "    输出：\n",
    "    y_prediction: 转换后的模型预测值\n",
    "    '''\n",
    "    # 模型预测值\n",
    "    y_prediction = sigmoid(np.dot(X, params['W']) + params['b'])\n",
    "    # 基于分类阈值对概率预测值进行类别转换\n",
    "    for i in range(len(y_prediction)):        \n",
    "        if y_prediction[i] > 0.5:\n",
    "            y_prediction[i] = 1\n",
    "        else:\n",
    "            y_prediction[i] = 0\n",
    "            \n",
    "    return y_prediction"
   ]
  },
  {
   "cell_type": "code",
   "execution_count": 57,
   "id": "d0766c0a",
   "metadata": {},
   "outputs": [
    {
     "data": {
      "image/png": "[encoded data removed]",
      "text/plain": [
       "<Figure size 432x288 with 1 Axes>"
      ]
     },
     "metadata": {
      "needs_background": "light"
     },
     "output_type": "display_data"
    }
   ],
   "source": [
    "# 导入matplotlib绘图库\n",
    "import matplotlib.pyplot as plt\n",
    "# 导入生成分类数据函数\n",
    "from sklearn.datasets._samples_generator import make_classification\n",
    "# 生成100*2的模拟二分类数据集\n",
    "X, labels = make_classification(\n",
    "    n_samples=100,\n",
    "    n_features=2,\n",
    "    n_redundant=0,\n",
    "    n_informative=2,\n",
    "    random_state=1,\n",
    "    n_clusters_per_class=2)\n",
    "# 设置随机数种子\n",
    "rng = np.random.RandomState(2)\n",
    "# 对生成的特征数据添加一组均匀分布噪声\n",
    "X += 2 * rng.uniform(size=X.shape)\n",
    "# 标签类别数\n",
    "unique_lables = set(labels)\n",
    "# 根据标签类别数设置颜色\n",
    "colors = plt.cm.Spectral(np.linspace(0,1,len(unique_lables)))\n",
    "# 绘制模拟数据的散点图\n",
    "for k,col in zip(unique_lables, colors):\n",
    "    x_k=X[labels==k]\n",
    "    plt.plot(x_k[:,0],x_k[:,1],'o',markerfacecolor=col,markeredgecolor=\"k\",\n",
    "             markersize=14)\n",
    "plt.title('Simulated binary data set')\n",
    "plt.show();"
   ]
  },
  {
   "cell_type": "code",
   "execution_count": 58,
   "id": "e8ffc108",
   "metadata": {},
   "outputs": [
    {
     "data": {
      "text/plain": [
       "array([0.4359949 , 0.02592623])"
      ]
     },
     "execution_count": 58,
     "metadata": {},
     "output_type": "execute_result"
    }
   ],
   "source": [
    "#均匀分布\n",
    "rng1 = np.random.RandomState(2)\n",
    "rng1.uniform(size=2)"
   ]
  },
  {
   "cell_type": "code",
   "execution_count": 59,
   "id": "66edf1bf",
   "metadata": {},
   "outputs": [
    {
     "data": {
      "text/plain": [
       "array([0., 1.])"
      ]
     },
     "execution_count": 59,
     "metadata": {},
     "output_type": "execute_result"
    }
   ],
   "source": [
    "labb = [1,1,1,2,2,3,3,3,3]\n",
    "set(labb)#类别\n",
    "np.linspace(0,1,len(unique_lables))"
   ]
  },
  {
   "cell_type": "code",
   "execution_count": 67,
   "id": "b01157fb",
   "metadata": {},
   "outputs": [
    {
     "data": {
      "text/plain": [
       "array([], shape=(0, 3), dtype=int64)"
      ]
     },
     "execution_count": 67,
     "metadata": {},
     "output_type": "execute_result"
    }
   ],
   "source": [
    "tt =  np.array([[1,2,3]\n",
    "              ,[4,5,6]\n",
    "              ,[7,8,9]])\n",
    "tt[:,1]\n",
    "tt[0:1,0]\n",
    "tt[:1]#取到1号位不包含1\n",
    "tt[1:]#从1号位开始取"
   ]
  },
  {
   "cell_type": "code",
   "execution_count": 61,
   "id": "8b00654d",
   "metadata": {},
   "outputs": [
    {
     "name": "stdout",
     "output_type": "stream",
     "text": [
      "(100, 2) (100,)\n"
     ]
    }
   ],
   "source": [
    "print(X.shape, labels.shape)"
   ]
  },
  {
   "cell_type": "code",
   "execution_count": 62,
   "id": "86406c3f",
   "metadata": {},
   "outputs": [
    {
     "name": "stdout",
     "output_type": "stream",
     "text": [
      "(100, 3)\n"
     ]
    }
   ],
   "source": [
    "labels = labels.reshape((-1, 1))\n",
    "data = np.concatenate((X, labels), axis=1)#axis=0 列数相同拼接行\n",
    "print(data.shape)"
   ]
  },
  {
   "cell_type": "code",
   "execution_count": 64,
   "id": "27959b90",
   "metadata": {},
   "outputs": [
    {
     "data": {
      "text/plain": [
       "array([[ 2.17221697, -0.73380144],\n",
       "       [ 2.54116921,  0.31055925],\n",
       "       [-0.00718884, -0.70554359],\n",
       "       [-0.31285288, -0.17275221],\n",
       "       [-0.67290531,  0.79310561],\n",
       "       [ 2.02921038,  2.00123297],\n",
       "       [ 1.08611755, -0.09763082],\n",
       "       [ 2.05115043,  0.89470152],\n",
       "       [ 0.63571715,  0.21832237],\n",
       "       [ 1.62773   ,  1.27186472],\n",
       "       [-0.32183734,  0.73302972],\n",
       "       [ 0.15987326,  1.15688899],\n",
       "       [ 1.07772608,  1.94968322],\n",
       "       [-1.0635294 ,  0.05584284],\n",
       "       [-0.34910535,  2.4031323 ],\n",
       "       [ 1.79445338,  1.44806611],\n",
       "       [ 0.8308001 ,  1.23959808],\n",
       "       [ 1.72040584,  1.46399449],\n",
       "       [ 0.79631556,  2.76496387],\n",
       "       [-0.75617817,  0.24619723],\n",
       "       [ 0.35992886,  0.45946866],\n",
       "       [ 1.2533517 ,  2.20890892],\n",
       "       [-0.13977217,  0.71166153],\n",
       "       [ 1.76970567,  0.43802158],\n",
       "       [ 0.2186094 ,  0.48193463],\n",
       "       [ 0.45578826,  1.38594564],\n",
       "       [-0.13179231,  0.29248123],\n",
       "       [ 0.33435907,  3.22902956],\n",
       "       [-0.75794556, -0.44257044],\n",
       "       [ 1.14294763,  0.49812625],\n",
       "       [ 2.67562609,  0.20226334],\n",
       "       [ 0.57865645,  1.30444219],\n",
       "       [-0.50925811,  2.2877859 ],\n",
       "       [ 1.19554582,  1.71546961],\n",
       "       [ 1.46412089,  2.93403116],\n",
       "       [-0.53598549,  0.65896742],\n",
       "       [-0.56915271, -0.07883318],\n",
       "       [ 0.76271726,  0.506951  ],\n",
       "       [ 2.45448367,  0.31750717],\n",
       "       [ 2.71499814, -0.70140225],\n",
       "       [ 2.22617554,  0.63641086],\n",
       "       [-0.11804526,  1.05189255],\n",
       "       [ 0.28687882, -0.92170583],\n",
       "       [ 1.75159125,  1.28666899],\n",
       "       [ 3.27721187, -0.43621329],\n",
       "       [ 1.27796505, -1.12678149],\n",
       "       [ 0.51969426,  0.30090292],\n",
       "       [ 1.93212061,  1.01738481],\n",
       "       [ 0.27664574,  2.98388358],\n",
       "       [ 0.58401137,  0.19700652],\n",
       "       [ 1.15207441,  2.21771847],\n",
       "       [ 0.22188502,  1.47267442],\n",
       "       [ 2.34938823, -0.00425313],\n",
       "       [-0.66157862,  1.13533097],\n",
       "       [ 0.15927265,  1.95206621],\n",
       "       [-0.23314923,  0.3341942 ],\n",
       "       [ 0.16621173, -0.7092409 ],\n",
       "       [ 1.78263038,  0.40122042],\n",
       "       [ 2.36010796, -0.55459439],\n",
       "       [ 2.3444005 ,  1.48374042],\n",
       "       [ 1.77646093,  0.19463885],\n",
       "       [-0.98793075,  0.41580831],\n",
       "       [ 0.70251214,  0.10179065],\n",
       "       [ 0.94166213,  0.1885119 ],\n",
       "       [-0.51652399,  2.09175868],\n",
       "       [ 0.5201113 ,  1.90855308],\n",
       "       [ 1.378981  ,  1.69076515],\n",
       "       [ 1.81849641,  1.86429196],\n",
       "       [ 0.50071035,  2.36062633],\n",
       "       [-1.2713733 ,  0.29309985],\n",
       "       [ 0.27646934,  1.18102538],\n",
       "       [ 0.07875543,  0.89819801],\n",
       "       [ 2.46524259,  0.38978402],\n",
       "       [ 2.42077939, -1.00383749],\n",
       "       [ 0.96942409,  0.0279622 ],\n",
       "       [ 1.22053774, -0.86633259],\n",
       "       [-0.14009678,  3.10252527],\n",
       "       [-0.61128348, -1.50838701],\n",
       "       [ 0.73569187,  2.05030981],\n",
       "       [ 2.05536929, -0.92312739],\n",
       "       [ 2.60818327, -0.12656984],\n",
       "       [ 2.25666097, -0.48135608],\n",
       "       [ 0.44348802,  2.8008455 ],\n",
       "       [ 2.52750107,  1.52165739],\n",
       "       [ 1.47651031, -0.35260034],\n",
       "       [ 0.38844385, -0.68293563],\n",
       "       [ 0.71864152,  0.61617135],\n",
       "       [ 1.81578707,  2.26964729],\n",
       "       [ 2.9283783 ,  3.2231442 ],\n",
       "       [-0.31054833,  1.27561384],\n",
       "       [-0.29168476, -0.21763034],\n",
       "       [ 2.17372779,  0.64669573],\n",
       "       [ 2.21108816,  1.20102364],\n",
       "       [ 0.58792263,  3.14984039],\n",
       "       [ 2.16646715, -0.26106035],\n",
       "       [ 2.82136166, -0.89602328],\n",
       "       [ 0.47872388,  2.22738185],\n",
       "       [-1.02200474,  1.16851423],\n",
       "       [ 2.8343204 ,  1.47902439],\n",
       "       [ 0.53941815,  0.85530156]])"
      ]
     },
     "execution_count": 64,
     "metadata": {},
     "output_type": "execute_result"
    }
   ],
   "source": [
    "labels\n",
    "X"
   ]
  },
  {
   "cell_type": "code",
   "execution_count": 68,
   "id": "b4e297eb",
   "metadata": {},
   "outputs": [
    {
     "name": "stdout",
     "output_type": "stream",
     "text": [
      "X_train= (90, 2)\n",
      "X_test= (10, 2)\n",
      "y_train= (90, 1)\n",
      "y_test= (10, 1)\n"
     ]
    }
   ],
   "source": [
    "# 训练集与测试集的简单划分\n",
    "offset = int(X.shape[0] * 0.9)\n",
    "X_train, y_train = X[:offset], labels[:offset]\n",
    "X_test, y_test = X[offset:], labels[offset:]\n",
    "y_train = y_train.reshape((-1,1))\n",
    "y_test = y_test.reshape((-1,1))\n",
    "\n",
    "print('X_train=', X_train.shape)\n",
    "print('X_test=', X_test.shape)\n",
    "print('y_train=', y_train.shape)\n",
    "print('y_test=', y_test.shape)"
   ]
  },
  {
   "cell_type": "code",
   "execution_count": 69,
   "id": "436cbb3b",
   "metadata": {},
   "outputs": [
    {
     "name": "stdout",
     "output_type": "stream",
     "text": [
      "epoch 0 cost 0.693147\n",
      "epoch 100 cost 0.554066\n",
      "epoch 200 cost 0.480953\n",
      "epoch 300 cost 0.434738\n",
      "epoch 400 cost 0.402395\n",
      "epoch 500 cost 0.378275\n",
      "epoch 600 cost 0.359468\n",
      "epoch 700 cost 0.344313\n",
      "epoch 800 cost 0.331783\n",
      "epoch 900 cost 0.321216\n"
     ]
    }
   ],
   "source": [
    "cost_list, params, grads = logistic_train(X_train, y_train, 0.01, 1000)"
   ]
  },
  {
   "cell_type": "code",
   "execution_count": 70,
   "id": "3ab566d2",
   "metadata": {},
   "outputs": [
    {
     "data": {
      "text/plain": [
       "{'W': array([[ 1.55740577],\n",
       "        [-0.46456883]]),\n",
       " 'b': -0.5944518853151362}"
      ]
     },
     "execution_count": 70,
     "metadata": {},
     "output_type": "execute_result"
    }
   ],
   "source": [
    "params"
   ]
  },
  {
   "cell_type": "code",
   "execution_count": 71,
   "id": "b4142bc1",
   "metadata": {},
   "outputs": [
    {
     "name": "stdout",
     "output_type": "stream",
     "text": [
      "[[0.]\n",
      " [1.]\n",
      " [1.]\n",
      " [0.]\n",
      " [1.]\n",
      " [1.]\n",
      " [0.]\n",
      " [0.]\n",
      " [1.]\n",
      " [0.]]\n"
     ]
    }
   ],
   "source": [
    "y_pred = predict(X_test, params)\n",
    "print(y_pred)"
   ]
  },
  {
   "cell_type": "code",
   "execution_count": 72,
   "id": "d6a80cf3",
   "metadata": {},
   "outputs": [
    {
     "data": {
      "text/plain": [
       "array([[0.27936388],\n",
       "       [0.92347241],\n",
       "       [0.90814155],\n",
       "       [0.24192851],\n",
       "       [0.94789076],\n",
       "       [0.98545445],\n",
       "       [0.29242059],\n",
       "       [0.06128463],\n",
       "       [0.95821867],\n",
       "       [0.46214622]])"
      ]
     },
     "execution_count": 72,
     "metadata": {},
     "output_type": "execute_result"
    }
   ],
   "source": [
    "sigmoid(np.dot(X_test, params['W']) + params['b'])"
   ]
  },
  {
   "cell_type": "code",
   "execution_count": 73,
   "id": "59aa1078",
   "metadata": {},
   "outputs": [
    {
     "name": "stdout",
     "output_type": "stream",
     "text": [
      "              precision    recall  f1-score   support\n",
      "\n",
      "           0       1.00      1.00      1.00         5\n",
      "           1       1.00      1.00      1.00         5\n",
      "\n",
      "    accuracy                           1.00        10\n",
      "   macro avg       1.00      1.00      1.00        10\n",
      "weighted avg       1.00      1.00      1.00        10\n",
      "\n"
     ]
    }
   ],
   "source": [
    "from sklearn.metrics import accuracy_score, classification_report\n",
    "# print(accuracy_score(y_test, y_pred))\n",
    "print(classification_report(y_test, y_pred))"
   ]
  },
  {
   "cell_type": "code",
   "execution_count": 75,
   "id": "4e7fb058",
   "metadata": {},
   "outputs": [
    {
     "name": "stdout",
     "output_type": "stream",
     "text": [
      "1.0\n"
     ]
    }
   ],
   "source": [
    "def accuracy(y_test, y_pred):\n",
    "    correct_count = 0\n",
    "    for i in range(len(y_test)):\n",
    "        for j in range(len(y_pred)):\n",
    "            if y_test[i] == y_pred[j] and i == j:\n",
    "                correct_count +=1\n",
    "            \n",
    "    accuracy_score = correct_count / len(y_test)\n",
    "    return accuracy_score\n",
    "\n",
    "accuracy_score_test = accuracy(y_test, y_pred)\n",
    "print(accuracy_score_test)"
   ]
  },
  {
   "cell_type": "code",
   "execution_count": 86,
   "id": "82177d7b",
   "metadata": {},
   "outputs": [
    {
     "name": "stdout",
     "output_type": "stream",
     "text": [
      "0.0\n"
     ]
    }
   ],
   "source": [
    "accuracy_score_train = accuracy(y_train, sigmoid(np.dot(X_train,params['W'])) + params['b'])\n",
    "print(accuracy_score_train)"
   ]
  },
  {
   "cell_type": "code",
   "execution_count": 89,
   "id": "1cc4243f",
   "metadata": {},
   "outputs": [
    {
     "data": {
      "text/plain": [
       "array([[ 2.17221697, -0.73380144],\n",
       "       [ 2.54116921,  0.31055925],\n",
       "       [-0.00718884, -0.70554359],\n",
       "       [-0.31285288, -0.17275221],\n",
       "       [-0.67290531,  0.79310561],\n",
       "       [ 2.02921038,  2.00123297],\n",
       "       [ 1.08611755, -0.09763082],\n",
       "       [ 2.05115043,  0.89470152],\n",
       "       [ 0.63571715,  0.21832237],\n",
       "       [ 1.62773   ,  1.27186472],\n",
       "       [-0.32183734,  0.73302972],\n",
       "       [ 0.15987326,  1.15688899],\n",
       "       [ 1.07772608,  1.94968322],\n",
       "       [-1.0635294 ,  0.05584284],\n",
       "       [-0.34910535,  2.4031323 ],\n",
       "       [ 1.79445338,  1.44806611],\n",
       "       [ 0.8308001 ,  1.23959808],\n",
       "       [ 1.72040584,  1.46399449],\n",
       "       [ 0.79631556,  2.76496387],\n",
       "       [-0.75617817,  0.24619723],\n",
       "       [ 0.35992886,  0.45946866],\n",
       "       [ 1.2533517 ,  2.20890892],\n",
       "       [-0.13977217,  0.71166153],\n",
       "       [ 1.76970567,  0.43802158],\n",
       "       [ 0.2186094 ,  0.48193463],\n",
       "       [ 0.45578826,  1.38594564],\n",
       "       [-0.13179231,  0.29248123],\n",
       "       [ 0.33435907,  3.22902956],\n",
       "       [-0.75794556, -0.44257044],\n",
       "       [ 1.14294763,  0.49812625],\n",
       "       [ 2.67562609,  0.20226334],\n",
       "       [ 0.57865645,  1.30444219],\n",
       "       [-0.50925811,  2.2877859 ],\n",
       "       [ 1.19554582,  1.71546961],\n",
       "       [ 1.46412089,  2.93403116],\n",
       "       [-0.53598549,  0.65896742],\n",
       "       [-0.56915271, -0.07883318],\n",
       "       [ 0.76271726,  0.506951  ],\n",
       "       [ 2.45448367,  0.31750717],\n",
       "       [ 2.71499814, -0.70140225],\n",
       "       [ 2.22617554,  0.63641086],\n",
       "       [-0.11804526,  1.05189255],\n",
       "       [ 0.28687882, -0.92170583],\n",
       "       [ 1.75159125,  1.28666899],\n",
       "       [ 3.27721187, -0.43621329],\n",
       "       [ 1.27796505, -1.12678149],\n",
       "       [ 0.51969426,  0.30090292],\n",
       "       [ 1.93212061,  1.01738481],\n",
       "       [ 0.27664574,  2.98388358],\n",
       "       [ 0.58401137,  0.19700652],\n",
       "       [ 1.15207441,  2.21771847],\n",
       "       [ 0.22188502,  1.47267442],\n",
       "       [ 2.34938823, -0.00425313],\n",
       "       [-0.66157862,  1.13533097],\n",
       "       [ 0.15927265,  1.95206621],\n",
       "       [-0.23314923,  0.3341942 ],\n",
       "       [ 0.16621173, -0.7092409 ],\n",
       "       [ 1.78263038,  0.40122042],\n",
       "       [ 2.36010796, -0.55459439],\n",
       "       [ 2.3444005 ,  1.48374042],\n",
       "       [ 1.77646093,  0.19463885],\n",
       "       [-0.98793075,  0.41580831],\n",
       "       [ 0.70251214,  0.10179065],\n",
       "       [ 0.94166213,  0.1885119 ],\n",
       "       [-0.51652399,  2.09175868],\n",
       "       [ 0.5201113 ,  1.90855308],\n",
       "       [ 1.378981  ,  1.69076515],\n",
       "       [ 1.81849641,  1.86429196],\n",
       "       [ 0.50071035,  2.36062633],\n",
       "       [-1.2713733 ,  0.29309985],\n",
       "       [ 0.27646934,  1.18102538],\n",
       "       [ 0.07875543,  0.89819801],\n",
       "       [ 2.46524259,  0.38978402],\n",
       "       [ 2.42077939, -1.00383749],\n",
       "       [ 0.96942409,  0.0279622 ],\n",
       "       [ 1.22053774, -0.86633259],\n",
       "       [-0.14009678,  3.10252527],\n",
       "       [-0.61128348, -1.50838701],\n",
       "       [ 0.73569187,  2.05030981],\n",
       "       [ 2.05536929, -0.92312739],\n",
       "       [ 2.60818327, -0.12656984],\n",
       "       [ 2.25666097, -0.48135608],\n",
       "       [ 0.44348802,  2.8008455 ],\n",
       "       [ 2.52750107,  1.52165739],\n",
       "       [ 1.47651031, -0.35260034],\n",
       "       [ 0.38844385, -0.68293563],\n",
       "       [ 0.71864152,  0.61617135],\n",
       "       [ 1.81578707,  2.26964729],\n",
       "       [ 2.9283783 ,  3.2231442 ],\n",
       "       [-0.31054833,  1.27561384]])"
      ]
     },
     "execution_count": 89,
     "metadata": {},
     "output_type": "execute_result"
    }
   ],
   "source": [
    "X_train"
   ]
  },
  {
   "cell_type": "code",
   "execution_count": 87,
   "id": "4c05fb15",
   "metadata": {},
   "outputs": [
    {
     "data": {
      "text/plain": [
       "0.31055924594920103"
      ]
     },
     "execution_count": 87,
     "metadata": {},
     "output_type": "execute_result"
    }
   ],
   "source": [
    "X_train[1][1]"
   ]
  },
  {
   "cell_type": "code",
   "execution_count": 88,
   "id": "6340718b",
   "metadata": {},
   "outputs": [
    {
     "data": {
      "text/plain": [
       "array([[ 2.17221697, -0.73380144],\n",
       "       [ 2.54116921,  0.31055925],\n",
       "       [-0.00718884, -0.70554359],\n",
       "       [-0.31285288, -0.17275221],\n",
       "       [-0.67290531,  0.79310561]])"
      ]
     },
     "execution_count": 88,
     "metadata": {},
     "output_type": "execute_result"
    }
   ],
   "source": [
    "X_train[:5]"
   ]
  },
  {
   "cell_type": "code",
   "execution_count": 94,
   "id": "94322646",
   "metadata": {},
   "outputs": [
    {
     "data": {
      "image/png": "[encoded data removed]",
      "text/plain": [
       "<Figure size 432x288 with 1 Axes>"
      ]
     },
     "metadata": {
      "needs_background": "light"
     },
     "output_type": "display_data"
    }
   ],
   "source": [
    "### 绘制逻辑回归决策边界\n",
    "def plot_logistic(X_train, y_train, params):\n",
    "    '''\n",
    "    输入：\n",
    "    X_train: 训练集输入\n",
    "    y_train: 训练集标签\n",
    "    params：训练好的模型参数\n",
    "    输出：\n",
    "    决策边界图\n",
    "    '''\n",
    "    # 训练样本量\n",
    "    n = X_train.shape[0]\n",
    "    # 初始化类别坐标点列表\n",
    "    xcord1 = []\n",
    "    ycord1 = []\n",
    "    xcord2 = []\n",
    "    ycord2 = []\n",
    "    # 获取两类坐标点并存入列表\n",
    "    for i in range(n):\n",
    "        if y_train[i] == 1:\n",
    "            xcord1.append(X_train[i][0])\n",
    "            ycord1.append(X_train[i][1])\n",
    "        else:\n",
    "            xcord2.append(X_train[i][0])\n",
    "            ycord2.append(X_train[i][1])\n",
    "    # 创建绘图\n",
    "    fig = plt.figure()\n",
    "    ax = fig.add_subplot(111)\n",
    "    # 绘制两类散点，以不同颜色表示\n",
    "    ax.scatter(xcord1, ycord1,s=32, c='red')\n",
    "    ax.scatter(xcord2, ycord2, s=32, c='green')\n",
    "    # 取值范围\n",
    "    x = np.arange(-1.5, 3, 0.1)\n",
    "    # 决策边界公式\n",
    "    y = (-params['b'] - params['W'][0] * x) / params['W'][1]\n",
    "    # 绘图\n",
    "    ax.plot(x, y)\n",
    "    plt.xlabel('X1')\n",
    "    plt.ylabel('X2')\n",
    "    plt.show()\n",
    "    \n",
    "plot_logistic(X_train, y_train, params)"
   ]
  },
  {
   "cell_type": "code",
   "execution_count": 95,
   "id": "354914cb",
   "metadata": {},
   "outputs": [
    {
     "data": {
      "text/plain": [
       "{'W': array([[ 1.55740577],\n",
       "        [-0.46456883]]),\n",
       " 'b': -0.5944518853151362}"
      ]
     },
     "execution_count": 95,
     "metadata": {},
     "output_type": "execute_result"
    }
   ],
   "source": [
    "params"
   ]
  },
  {
   "cell_type": "code",
   "execution_count": 106,
   "id": "ca2a3ba8",
   "metadata": {},
   "outputs": [
    {
     "data": {
      "text/plain": [
       "[<matplotlib.lines.Line2D at 0x163340a00>]"
      ]
     },
     "execution_count": 106,
     "metadata": {},
     "output_type": "execute_result"
    },
    {
     "data": {
      "image/png": "[encoded data removed]",
      "text/plain": [
       "<Figure size 432x288 with 1 Axes>"
      ]
     },
     "metadata": {
      "needs_background": "light"
     },
     "output_type": "display_data"
    }
   ],
   "source": [
    "fig1 = plt.figure()\n",
    "ax1 = fig1.add_subplot(111)\n",
    "x = np.arange(-1.5, 3, 0.1)\n",
    "y =  x \n",
    "ax1.plot(x,y)"
   ]
  },
  {
   "cell_type": "code",
   "execution_count": 108,
   "id": "7db8bf11",
   "metadata": {},
   "outputs": [
    {
     "name": "stdout",
     "output_type": "stream",
     "text": [
      "(90, 2) (90, 1) (10, 2) (10, 1)\n",
      "epoch 0 cost 0.693147\n",
      "epoch 100 cost 0.521480\n",
      "epoch 200 cost 0.416359\n",
      "epoch 300 cost 0.347951\n",
      "epoch 400 cost 0.300680\n",
      "epoch 500 cost 0.266327\n",
      "epoch 600 cost 0.240328\n",
      "epoch 700 cost 0.220002\n",
      "epoch 800 cost 0.203687\n",
      "epoch 900 cost 0.190306\n",
      "{'W': array([[ 2.04608084],\n",
      "       [-0.03964634]]), 'b': 0.12335926234285086}\n",
      "train accuracy is: 0.9666666666666667\n",
      "test accuracy is: 1.0\n"
     ]
    },
    {
     "data": {
      "image/png": "[encoded data removed]",
      "text/plain": [
       "<Figure size 432x288 with 1 Axes>"
      ]
     },
     "metadata": {
      "needs_background": "light"
     },
     "output_type": "display_data"
    }
   ],
   "source": [
    "import numpy as np\n",
    "import matplotlib.pyplot as plt\n",
    "from sklearn.datasets._samples_generator import make_classification\n",
    "\n",
    "class logistic_regression():\n",
    "    def __init__(self):\n",
    "        pass\n",
    "\n",
    "    def sigmoid(self, x):\n",
    "        z = 1 / (1 + np.exp(-x))\n",
    "        return z\n",
    "\n",
    "    def initialize_params(self, dims):\n",
    "        W = np.zeros((dims, 1))\n",
    "        b = 0\n",
    "        return W, b\n",
    "\n",
    "    def logistic(self, X, y, W, b):\n",
    "        num_train = X.shape[0]\n",
    "        num_feature = X.shape[1]\n",
    "\n",
    "        a = self.sigmoid(np.dot(X, W) + b)\n",
    "        cost = -1 / num_train * np.sum(y * np.log(a) + (1 - y) * np.log(1 - a))\n",
    "\n",
    "        dW = np.dot(X.T, (a - y)) / num_train\n",
    "        db = np.sum(a - y) / num_train\n",
    "        cost = np.squeeze(cost)\n",
    "\n",
    "        return a, cost, dW, db\n",
    "\n",
    "    def logistic_train(self, X, y, learning_rate, epochs):\n",
    "        W, b = self.initialize_params(X.shape[1])\n",
    "        cost_list = []\n",
    "\n",
    "        for i in range(epochs):\n",
    "            a, cost, dW, db = self.logistic(X, y, W, b)\n",
    "            W = W - learning_rate * dW\n",
    "            b = b - learning_rate * db\n",
    "\n",
    "            if i % 100 == 0:\n",
    "                cost_list.append(cost)\n",
    "            if i % 100 == 0:\n",
    "                print('epoch %d cost %f' % (i, cost))\n",
    "\n",
    "        params = {\n",
    "            'W': W,\n",
    "            'b': b\n",
    "        }\n",
    "        grads = {\n",
    "            'dW': dW,\n",
    "            'db': db\n",
    "        }\n",
    "\n",
    "        return cost_list, params, grads\n",
    "\n",
    "    def predict(self, X, params):\n",
    "        y_prediction = self.sigmoid(np.dot(X, params['W']) + params['b'])\n",
    "\n",
    "        for i in range(len(y_prediction)):\n",
    "            if y_prediction[i] > 0.5:\n",
    "                y_prediction[i] = 1\n",
    "            else:\n",
    "                y_prediction[i] = 0\n",
    "\n",
    "        return y_prediction\n",
    "\n",
    "    def accuracy(self, y_test, y_pred):\n",
    "        correct_count = 0\n",
    "        for i in range(len(y_test)):\n",
    "            for j in range(len(y_pred)):\n",
    "                if y_test[i] == y_pred[j] and i == j:\n",
    "                    correct_count += 1\n",
    "\n",
    "        accuracy_score = correct_count / len(y_test)\n",
    "        return accuracy_score\n",
    "\n",
    "    def create_data(self):\n",
    "        X, labels = make_classification(n_samples=100, n_features=2, n_redundant=0, n_informative=2,\n",
    "                                        random_state=1, n_clusters_per_class=2)\n",
    "        labels = labels.reshape((-1, 1))\n",
    "        offset = int(X.shape[0] * 0.9)\n",
    "        X_train, y_train = X[:offset], labels[:offset]\n",
    "        X_test, y_test = X[offset:], labels[offset:]\n",
    "        return X_train, y_train, X_test, y_test\n",
    "\n",
    "    def plot_logistic(self, X_train, y_train, params):\n",
    "        n = X_train.shape[0]\n",
    "        xcord1 = []\n",
    "        ycord1 = []\n",
    "        xcord2 = []\n",
    "        ycord2 = []\n",
    "        for i in range(n):\n",
    "            if y_train[i] == 1:\n",
    "                xcord1.append(X_train[i][0])\n",
    "                ycord1.append(X_train[i][1])\n",
    "            else:\n",
    "                xcord2.append(X_train[i][0])\n",
    "                ycord2.append(X_train[i][1])\n",
    "        fig = plt.figure()\n",
    "        ax = fig.add_subplot(111)\n",
    "        ax.scatter(xcord1, ycord1, s=32, c='red')\n",
    "        ax.scatter(xcord2, ycord2, s=32, c='green')\n",
    "        x = np.arange(-1.5, 3, 0.1)\n",
    "        y = (-params['b'] - params['W'][0] * x) / params['W'][1]\n",
    "        ax.plot(x, y)\n",
    "        plt.xlabel('X1')\n",
    "        plt.ylabel('X2')\n",
    "        plt.show()\n",
    "\n",
    "\n",
    "if __name__ == \"__main__\":\n",
    "    model = logistic_regression()\n",
    "    X_train, y_train, X_test, y_test = model.create_data()\n",
    "    print(X_train.shape, y_train.shape, X_test.shape, y_test.shape)\n",
    "    cost_list, params, grads = model.logistic_train(X_train, y_train, 0.01, 1000)\n",
    "    print(params)\n",
    "    y_train_pred = model.predict(X_train, params)\n",
    "    accuracy_score_train = model.accuracy(y_train, y_train_pred)\n",
    "    print('train accuracy is:', accuracy_score_train)\n",
    "    y_test_pred = model.predict(X_test, params)\n",
    "    accuracy_score_test = model.accuracy(y_test, y_test_pred)\n",
    "    print('test accuracy is:', accuracy_score_test)\n",
    "    model.plot_logistic(X_train, y_train, params)"
   ]
  },
  {
   "cell_type": "code",
   "execution_count": 109,
   "id": "880139e2",
   "metadata": {},
   "outputs": [
    {
     "name": "stderr",
     "output_type": "stream",
     "text": [
      "/Users/heshuaichen/opt/anaconda3/lib/python3.9/site-packages/sklearn/utils/validation.py:993: DataConversionWarning: A column-vector y was passed when a 1d array was expected. Please change the shape of y to (n_samples, ), for example using ravel().\n",
      "  y = column_or_1d(y, warn=True)\n"
     ]
    },
    {
     "data": {
      "text/plain": [
       "array([0, 1, 1, 0, 1, 1, 0, 0, 1, 0])"
      ]
     },
     "execution_count": 109,
     "metadata": {},
     "output_type": "execute_result"
    }
   ],
   "source": [
    "from sklearn.linear_model import LogisticRegression\n",
    "clf = LogisticRegression(random_state=0).fit(X_train, y_train)\n",
    "y_pred = clf.predict(X_test)\n",
    "y_pred"
   ]
  },
  {
   "cell_type": "code",
   "execution_count": 110,
   "id": "c8fd1bf9",
   "metadata": {},
   "outputs": [
    {
     "name": "stdout",
     "output_type": "stream",
     "text": [
      "              precision    recall  f1-score   support\n",
      "\n",
      "           0       1.00      1.00      1.00         5\n",
      "           1       1.00      1.00      1.00         5\n",
      "\n",
      "    accuracy                           1.00        10\n",
      "   macro avg       1.00      1.00      1.00        10\n",
      "weighted avg       1.00      1.00      1.00        10\n",
      "\n"
     ]
    }
   ],
   "source": [
    "print(classification_report(y_test, y_pred))"
   ]
  },
  {
   "cell_type": "code",
   "execution_count": null,
   "id": "9664a045",
   "metadata": {},
   "outputs": [],
   "source": []
  }
 ],
 "metadata": {
  "celltoolbar": "Tags",
  "kernelspec": {
   "display_name": "Python 3 (ipykernel)",
   "language": "python",
   "name": "python3"
  },
  "language_info": {
   "codemirror_mode": {
    "name": "ipython",
    "version": 3
   },
   "file_extension": ".py",
   "mimetype": "text/x-python",
   "name": "python",
   "nbconvert_exporter": "python",
   "pygments_lexer": "ipython3",
   "version": "3.9.12"
  }
 },
 "nbformat": 4,
 "nbformat_minor": 5
}
