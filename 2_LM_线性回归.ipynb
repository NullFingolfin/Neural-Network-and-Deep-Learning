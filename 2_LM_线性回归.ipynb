{
 "cells": [
  {
   "cell_type": "code",
   "execution_count": 1,
   "id": "b5de3c73",
   "metadata": {},
   "outputs": [],
   "source": [
    "import numpy as np\n",
    "import pandas as pd"
   ]
  },
  {
   "cell_type": "code",
   "execution_count": 2,
   "id": "7bb17c67",
   "metadata": {},
   "outputs": [],
   "source": [
    "#线性回归模型主体\n",
    "def liner_loss(X,y,w,b):\n",
    "    '''\n",
    "    输入：\n",
    "    X：输入变量矩阵\n",
    "    y：输出标签向量\n",
    "    w：变量参数权重矩阵\n",
    "    b：偏置\n",
    "    输出：\n",
    "    y_hat：线性回归模型预测值\n",
    "    loss：均方损失\n",
    "    dw：权重系数一阶偏导\n",
    "    db：偏置一阶偏导\n",
    "    '''\n",
    "    num_train = X.shape[0]\n",
    "    num_feature = X.shape[1]\n",
    "    y_hat = np.dot(X,w)+b\n",
    "    loss = np.sum((y_hat - y)**2 / num_train) \n",
    "    dw = np.dot(X.T, (y_hat - y)) / num_train #?\n",
    "    db = np.sum((y_hat - y)) / num_train #?\n",
    "    return y_hat,loss,dw,db"
   ]
  },
  {
   "cell_type": "code",
   "execution_count": 3,
   "id": "7c8dfa01",
   "metadata": {},
   "outputs": [],
   "source": [
    "#初始化模型参数\n",
    "def initialize_params(dims):\n",
    "    '''\n",
    "    输入：\n",
    "    dims：训练数据的变量维度\n",
    "    输出：\n",
    "    w：初始化权重系数\n",
    "    b：初始化偏置参数\n",
    "    '''\n",
    "    #初始化权重系数为零向量\n",
    "    w = np.zeros((dims,1))\n",
    "    #初始化偏置参数为零\n",
    "    b = 0\n",
    "    return w,b"
   ]
  },
  {
   "cell_type": "code",
   "execution_count": 4,
   "id": "95f876b6",
   "metadata": {},
   "outputs": [],
   "source": [
    "#定义线性回归模型的训练过程\n",
    "def linear_train(X,y,learning_rate=0.01,epochs=10000):\n",
    "    '''\n",
    "    输入：\n",
    "    X：输入变量矩阵\n",
    "    y：输出标签向量\n",
    "    learning_rate:学习率\n",
    "    epochs：训练迭代次数\n",
    "    输出：\n",
    "    loss_his:每次迭代的均方损失\n",
    "    params：优化后的参数字典\n",
    "    grads:优化后的参数梯度字典\n",
    "    '''\n",
    "    #记录训练损失的空列表\n",
    "    loss_his = []\n",
    "    w,b = initialize_params(X.shape[1])#10维度 初始化 w 10，1 的零矩阵 b=0\n",
    "    #迭代训练\n",
    "    for i in range(1,epochs):\n",
    "        y_hat,loss,dw,db = liner_loss(X,y,w,b)\n",
    "        w += -learning_rate * dw\n",
    "        b += -learning_rate * db\n",
    "        #记录当前迭代的损失\n",
    "        loss_his.append(loss)\n",
    "        if i % 10000 == 0:#每万次输出一次结果\n",
    "            print('epoch %d loss %f' % (i,loss))\n",
    "            params = {\n",
    "                'w': w,\n",
    "                'b': b\n",
    "            }\n",
    "            grads = {\n",
    "                'dw': dw,\n",
    "                'db': db\n",
    "            }\n",
    "    return loss_his,params,grads"
   ]
  },
  {
   "cell_type": "code",
   "execution_count": 5,
   "id": "8f629596",
   "metadata": {},
   "outputs": [
    {
     "name": "stdout",
     "output_type": "stream",
     "text": [
      "(442, 10)\n",
      "(442,)\n",
      "[[ 0.03807591  0.05068012  0.06169621  0.02187235 -0.0442235  -0.03482076\n",
      "  -0.04340085 -0.00259226  0.01990842 -0.01764613]\n",
      " [-0.00188202 -0.04464164 -0.05147406 -0.02632783 -0.00844872 -0.01916334\n",
      "   0.07441156 -0.03949338 -0.06832974 -0.09220405]\n",
      " [ 0.08529891  0.05068012  0.04445121 -0.00567061 -0.04559945 -0.03419447\n",
      "  -0.03235593 -0.00259226  0.00286377 -0.02593034]\n",
      " [-0.08906294 -0.04464164 -0.01159501 -0.03665645  0.01219057  0.02499059\n",
      "  -0.03603757  0.03430886  0.02269202 -0.00936191]\n",
      " [ 0.00538306 -0.04464164 -0.03638469  0.02187235  0.00393485  0.01559614\n",
      "   0.00814208 -0.00259226 -0.03199144 -0.04664087]]\n",
      "[151.  75. 141. 206. 135.]\n"
     ]
    }
   ],
   "source": [
    "from sklearn.datasets import load_diabetes\n",
    "diabetes = load_diabetes()\n",
    "data = diabetes.data\n",
    "target = diabetes.target \n",
    "print(data.shape)\n",
    "print(target.shape)\n",
    "print(data[:5])\n",
    "print(target[:5])"
   ]
  },
  {
   "cell_type": "code",
   "execution_count": 6,
   "id": "697cd27a",
   "metadata": {},
   "outputs": [
    {
     "data": {
      "text/plain": [
       "{'data': array([[ 0.03807591,  0.05068012,  0.06169621, ..., -0.00259226,\n",
       "          0.01990842, -0.01764613],\n",
       "        [-0.00188202, -0.04464164, -0.05147406, ..., -0.03949338,\n",
       "         -0.06832974, -0.09220405],\n",
       "        [ 0.08529891,  0.05068012,  0.04445121, ..., -0.00259226,\n",
       "          0.00286377, -0.02593034],\n",
       "        ...,\n",
       "        [ 0.04170844,  0.05068012, -0.01590626, ..., -0.01107952,\n",
       "         -0.04687948,  0.01549073],\n",
       "        [-0.04547248, -0.04464164,  0.03906215, ...,  0.02655962,\n",
       "          0.04452837, -0.02593034],\n",
       "        [-0.04547248, -0.04464164, -0.0730303 , ..., -0.03949338,\n",
       "         -0.00421986,  0.00306441]]),\n",
       " 'target': array([151.,  75., 141., 206., 135.,  97., 138.,  63., 110., 310., 101.,\n",
       "         69., 179., 185., 118., 171., 166., 144.,  97., 168.,  68.,  49.,\n",
       "         68., 245., 184., 202., 137.,  85., 131., 283., 129.,  59., 341.,\n",
       "         87.,  65., 102., 265., 276., 252.,  90., 100.,  55.,  61.,  92.,\n",
       "        259.,  53., 190., 142.,  75., 142., 155., 225.,  59., 104., 182.,\n",
       "        128.,  52.,  37., 170., 170.,  61., 144.,  52., 128.,  71., 163.,\n",
       "        150.,  97., 160., 178.,  48., 270., 202., 111.,  85.,  42., 170.,\n",
       "        200., 252., 113., 143.,  51.,  52., 210.,  65., 141.,  55., 134.,\n",
       "         42., 111.,  98., 164.,  48.,  96.,  90., 162., 150., 279.,  92.,\n",
       "         83., 128., 102., 302., 198.,  95.,  53., 134., 144., 232.,  81.,\n",
       "        104.,  59., 246., 297., 258., 229., 275., 281., 179., 200., 200.,\n",
       "        173., 180.,  84., 121., 161.,  99., 109., 115., 268., 274., 158.,\n",
       "        107.,  83., 103., 272.,  85., 280., 336., 281., 118., 317., 235.,\n",
       "         60., 174., 259., 178., 128.,  96., 126., 288.,  88., 292.,  71.,\n",
       "        197., 186.,  25.,  84.,  96., 195.,  53., 217., 172., 131., 214.,\n",
       "         59.,  70., 220., 268., 152.,  47.,  74., 295., 101., 151., 127.,\n",
       "        237., 225.,  81., 151., 107.,  64., 138., 185., 265., 101., 137.,\n",
       "        143., 141.,  79., 292., 178.,  91., 116.,  86., 122.,  72., 129.,\n",
       "        142.,  90., 158.,  39., 196., 222., 277.,  99., 196., 202., 155.,\n",
       "         77., 191.,  70.,  73.,  49.,  65., 263., 248., 296., 214., 185.,\n",
       "         78.,  93., 252., 150.,  77., 208.,  77., 108., 160.,  53., 220.,\n",
       "        154., 259.,  90., 246., 124.,  67.,  72., 257., 262., 275., 177.,\n",
       "         71.,  47., 187., 125.,  78.,  51., 258., 215., 303., 243.,  91.,\n",
       "        150., 310., 153., 346.,  63.,  89.,  50.,  39., 103., 308., 116.,\n",
       "        145.,  74.,  45., 115., 264.,  87., 202., 127., 182., 241.,  66.,\n",
       "         94., 283.,  64., 102., 200., 265.,  94., 230., 181., 156., 233.,\n",
       "         60., 219.,  80.,  68., 332., 248.,  84., 200.,  55.,  85.,  89.,\n",
       "         31., 129.,  83., 275.,  65., 198., 236., 253., 124.,  44., 172.,\n",
       "        114., 142., 109., 180., 144., 163., 147.,  97., 220., 190., 109.,\n",
       "        191., 122., 230., 242., 248., 249., 192., 131., 237.,  78., 135.,\n",
       "        244., 199., 270., 164.,  72.,  96., 306.,  91., 214.,  95., 216.,\n",
       "        263., 178., 113., 200., 139., 139.,  88., 148.,  88., 243.,  71.,\n",
       "         77., 109., 272.,  60.,  54., 221.,  90., 311., 281., 182., 321.,\n",
       "         58., 262., 206., 233., 242., 123., 167.,  63., 197.,  71., 168.,\n",
       "        140., 217., 121., 235., 245.,  40.,  52., 104., 132.,  88.,  69.,\n",
       "        219.,  72., 201., 110.,  51., 277.,  63., 118.,  69., 273., 258.,\n",
       "         43., 198., 242., 232., 175.,  93., 168., 275., 293., 281.,  72.,\n",
       "        140., 189., 181., 209., 136., 261., 113., 131., 174., 257.,  55.,\n",
       "         84.,  42., 146., 212., 233.,  91., 111., 152., 120.,  67., 310.,\n",
       "         94., 183.,  66., 173.,  72.,  49.,  64.,  48., 178., 104., 132.,\n",
       "        220.,  57.]),\n",
       " 'frame': None,\n",
       " 'DESCR': '.. _diabetes_dataset:\\n\\nDiabetes dataset\\n----------------\\n\\nTen baseline variables, age, sex, body mass index, average blood\\npressure, and six blood serum measurements were obtained for each of n =\\n442 diabetes patients, as well as the response of interest, a\\nquantitative measure of disease progression one year after baseline.\\n\\n**Data Set Characteristics:**\\n\\n  :Number of Instances: 442\\n\\n  :Number of Attributes: First 10 columns are numeric predictive values\\n\\n  :Target: Column 11 is a quantitative measure of disease progression one year after baseline\\n\\n  :Attribute Information:\\n      - age     age in years\\n      - sex\\n      - bmi     body mass index\\n      - bp      average blood pressure\\n      - s1      tc, total serum cholesterol\\n      - s2      ldl, low-density lipoproteins\\n      - s3      hdl, high-density lipoproteins\\n      - s4      tch, total cholesterol / HDL\\n      - s5      ltg, possibly log of serum triglycerides level\\n      - s6      glu, blood sugar level\\n\\nNote: Each of these 10 feature variables have been mean centered and scaled by the standard deviation times `n_samples` (i.e. the sum of squares of each column totals 1).\\n\\nSource URL:\\nhttps://www4.stat.ncsu.edu/~boos/var.select/diabetes.html\\n\\nFor more information see:\\nBradley Efron, Trevor Hastie, Iain Johnstone and Robert Tibshirani (2004) \"Least Angle Regression,\" Annals of Statistics (with discussion), 407-499.\\n(https://web.stanford.edu/~hastie/Papers/LARS/LeastAngle_2002.pdf)',\n",
       " 'feature_names': ['age',\n",
       "  'sex',\n",
       "  'bmi',\n",
       "  'bp',\n",
       "  's1',\n",
       "  's2',\n",
       "  's3',\n",
       "  's4',\n",
       "  's5',\n",
       "  's6'],\n",
       " 'data_filename': 'diabetes_data.csv.gz',\n",
       " 'target_filename': 'diabetes_target.csv.gz',\n",
       " 'data_module': 'sklearn.datasets.data'}"
      ]
     },
     "execution_count": 6,
     "metadata": {},
     "output_type": "execute_result"
    }
   ],
   "source": [
    "load_diabetes()"
   ]
  },
  {
   "cell_type": "code",
   "execution_count": 7,
   "id": "675720eb",
   "metadata": {},
   "outputs": [
    {
     "name": "stdout",
     "output_type": "stream",
     "text": [
      "X_train's shape:  (353, 10)\n",
      "X_test's shape:  (89, 10)\n",
      "y_train's shape:  (353, 1)\n",
      "y_test's shape:  (89, 1)\n"
     ]
    }
   ],
   "source": [
    "# 导入sklearn diabetes数据接口\n",
    "from sklearn.datasets import load_diabetes\n",
    "# 导入sklearn打乱数据函数\n",
    "from sklearn.utils import shuffle\n",
    "# 获取diabetes数据集\n",
    "diabetes = load_diabetes()\n",
    "# 获取输入和标签\n",
    "data, target = diabetes.data, diabetes.target \n",
    "# 打乱数据集\n",
    "X, y = shuffle(data, target, random_state=13)\n",
    "# 按照8/2划分训练集和测试集\n",
    "offset = int(X.shape[0] * 0.8)\n",
    "# 训练集\n",
    "X_train, y_train = X[:offset], y[:offset]\n",
    "# 测试集\n",
    "X_test, y_test = X[offset:], y[offset:]\n",
    "# 将训练集改为列向量的形式\n",
    "y_train = y_train.reshape((-1,1))\n",
    "# 将验证集改为列向量的形式\n",
    "y_test = y_test.reshape((-1,1))\n",
    "# 打印训练集和测试集维度\n",
    "print(\"X_train's shape: \", X_train.shape)\n",
    "print(\"X_test's shape: \", X_test.shape)\n",
    "print(\"y_train's shape: \", y_train.shape)\n",
    "print(\"y_test's shape: \", y_test.shape)"
   ]
  },
  {
   "cell_type": "code",
   "execution_count": 8,
   "id": "2a3a4ca2",
   "metadata": {},
   "outputs": [],
   "source": [
    "q = np.array([[1., 0.], [2., 1.], [0., 0.]])"
   ]
  },
  {
   "cell_type": "code",
   "execution_count": 9,
   "id": "2d25a870",
   "metadata": {},
   "outputs": [
    {
     "data": {
      "text/plain": [
       "array([[1., 0.],\n",
       "       [0., 0.],\n",
       "       [2., 1.]])"
      ]
     },
     "execution_count": 9,
     "metadata": {},
     "output_type": "execute_result"
    }
   ],
   "source": [
    "q = shuffle(q,random_state= 1) #random_state参数的作用和set.seed()的作用一样\n",
    "q"
   ]
  },
  {
   "cell_type": "code",
   "execution_count": 10,
   "id": "5d7e5c0c",
   "metadata": {},
   "outputs": [
    {
     "data": {
      "text/plain": [
       "array([[1.],\n",
       "       [0.],\n",
       "       [0.],\n",
       "       [0.],\n",
       "       [2.],\n",
       "       [1.]])"
      ]
     },
     "execution_count": 10,
     "metadata": {},
     "output_type": "execute_result"
    }
   ],
   "source": [
    "q.reshape((-1,1))#q.reshape(-1,1)效果一致"
   ]
  },
  {
   "cell_type": "code",
   "execution_count": 11,
   "id": "1c51005c",
   "metadata": {},
   "outputs": [
    {
     "data": {
      "text/plain": [
       "10"
      ]
     },
     "execution_count": 11,
     "metadata": {},
     "output_type": "execute_result"
    }
   ],
   "source": [
    "X_train.shape[1]"
   ]
  },
  {
   "cell_type": "code",
   "execution_count": 12,
   "id": "967441e4",
   "metadata": {},
   "outputs": [
    {
     "name": "stdout",
     "output_type": "stream",
     "text": [
      "epoch 10000 loss 3679.868273\n",
      "epoch 20000 loss 3219.164522\n",
      "epoch 30000 loss 3040.820279\n",
      "epoch 40000 loss 2944.936608\n",
      "epoch 50000 loss 2885.991571\n",
      "epoch 60000 loss 2848.051813\n",
      "epoch 70000 loss 2823.157085\n",
      "epoch 80000 loss 2806.627821\n",
      "epoch 90000 loss 2795.546917\n",
      "epoch 100000 loss 2788.051561\n",
      "epoch 110000 loss 2782.935842\n",
      "epoch 120000 loss 2779.411265\n",
      "epoch 130000 loss 2776.957989\n",
      "epoch 140000 loss 2775.230803\n",
      "epoch 150000 loss 2773.998942\n",
      "epoch 160000 loss 2773.107192\n",
      "epoch 170000 loss 2772.450534\n",
      "epoch 180000 loss 2771.957489\n",
      "epoch 190000 loss 2771.579121\n",
      "{'w': array([[  10.56390075],\n",
      "       [-236.41625133],\n",
      "       [ 481.50915635],\n",
      "       [ 294.47043558],\n",
      "       [ -60.99362023],\n",
      "       [-110.54181897],\n",
      "       [-206.44046579],\n",
      "       [ 163.23511378],\n",
      "       [ 409.28971463],\n",
      "       [  65.73254667]]), 'b': 150.81461197131318}\n"
     ]
    }
   ],
   "source": [
    "# 线性回归模型训练\n",
    "loss_his, params, grads = linear_train(X_train, y_train, 0.01, 200000)\n",
    "# 打印训练后得到模型参数\n",
    "print(params)"
   ]
  },
  {
   "cell_type": "code",
   "execution_count": 13,
   "id": "f97f2164",
   "metadata": {},
   "outputs": [
    {
     "name": "stdout",
     "output_type": "stream",
     "text": [
      "[[ 82.05388738]\n",
      " [167.22433857]\n",
      " [112.38349427]\n",
      " [138.15518456]\n",
      " [174.71854517]\n",
      " [135.00611602]\n",
      " [131.62220956]\n",
      " [ 95.62445485]\n",
      " [176.67962879]\n",
      " [143.8439422 ]\n",
      " [245.58966439]\n",
      " [224.49231305]\n",
      " [226.69941989]\n",
      " [182.09205962]\n",
      " [109.12723316]\n",
      " [142.82683797]\n",
      " [123.06469994]\n",
      " [231.0072759 ]\n",
      " [132.18043875]\n",
      " [118.93338101]\n",
      " [106.07259854]\n",
      " [ 94.58017888]\n",
      " [213.24512342]\n",
      " [166.09155955]\n",
      " [255.96203265]\n",
      " [119.84132316]\n",
      " [219.6954459 ]\n",
      " [147.04142813]\n",
      " [190.03771783]\n",
      " [170.43705086]\n",
      " [114.70794864]\n",
      " [158.48688368]\n",
      " [170.78711874]\n",
      " [241.39956006]\n",
      " [195.16212061]\n",
      " [ 69.29193839]\n",
      " [163.08344691]\n",
      " [104.91195014]\n",
      " [175.16153134]\n",
      " [250.31317387]\n",
      " [178.22451782]\n",
      " [ 67.57773248]\n",
      " [216.52216346]\n",
      " [201.70472316]\n",
      " [114.9233346 ]\n",
      " [161.85486291]\n",
      " [134.56100814]\n",
      " [100.05962435]\n",
      " [142.09017747]\n",
      " [160.48794967]\n",
      " [163.65680903]\n",
      " [156.26797481]\n",
      " [ 77.82494719]\n",
      " [140.85172447]\n",
      " [173.08197293]\n",
      " [213.97509762]\n",
      " [118.05889242]\n",
      " [170.24265207]\n",
      " [280.1105192 ]\n",
      " [ 84.8117254 ]\n",
      " [114.91070443]\n",
      " [224.09169261]\n",
      " [158.26635132]\n",
      " [184.40089079]\n",
      " [ 75.60867378]\n",
      " [125.2054955 ]\n",
      " [241.9578168 ]\n",
      " [189.29550709]\n",
      " [173.98345934]\n",
      " [241.18117634]\n",
      " [ 87.15706322]\n",
      " [125.12616823]\n",
      " [ 91.99306407]\n",
      " [116.57222598]\n",
      " [101.63439955]\n",
      " [125.69308998]\n",
      " [ 98.0554983 ]\n",
      " [ 69.56895294]\n",
      " [123.59417638]\n",
      " [156.47523016]\n",
      " [182.51118679]\n",
      " [124.27015086]\n",
      " [137.47479519]\n",
      " [190.23904736]\n",
      " [166.02962045]\n",
      " [198.79061421]\n",
      " [144.52669228]\n",
      " [154.00996587]\n",
      " [123.86223535]]\n"
     ]
    }
   ],
   "source": [
    "#回归模型预测函数\n",
    "def predict(x,prams):\n",
    "    '''\n",
    "    输入：\n",
    "    X：测试集\n",
    "    params：模型训练参数\n",
    "    y_pred：模型预测结果\n",
    "    '''\n",
    "    w = params['w']\n",
    "    b = params['b']\n",
    "    y_pred = np.dot(x,w)+b\n",
    "    return y_pred\n",
    "y_pred = predict(X_test,params)\n",
    "print(y_pred)"
   ]
  },
  {
   "cell_type": "code",
   "execution_count": 14,
   "id": "5bb3869d",
   "metadata": {},
   "outputs": [
    {
     "name": "stdout",
     "output_type": "stream",
     "text": [
      "0.5334190911682037\n"
     ]
    }
   ],
   "source": [
    "#R^2 系数\n",
    "def r2_score(y_test,y_pred):\n",
    "    '''\n",
    "    输入：\n",
    "    y_test:测试集标签值\n",
    "    y_pred：测试集预测值\n",
    "    输出：\n",
    "    r2: R^2系数\n",
    "    '''\n",
    "    #测试集标签均值\n",
    "    y_avg = np.mean(y_test)\n",
    "    #总离差平方和\n",
    "    ss_tot = np.sum((y_test - y_avg)**2)\n",
    "    #残差平方和\n",
    "    ss_res = np.sum((y_test - y_pred)**2)\n",
    "    #R^2计算\n",
    "    r2 = 1 - (ss_res/ss_tot)\n",
    "    return r2\n",
    "print(r2_score(y_test,y_pred))"
   ]
  },
  {
   "cell_type": "code",
   "execution_count": 15,
   "id": "921f5f69",
   "metadata": {},
   "outputs": [],
   "source": [
    "#基于sklearn的模型实现\n",
    "from sklearn import linear_model\n",
    "from sklearn.metrics import mean_squared_error, r2_score\n",
    "import matplotlib.pyplot as plt"
   ]
  },
  {
   "cell_type": "code",
   "execution_count": 16,
   "id": "6904723e",
   "metadata": {},
   "outputs": [
    {
     "name": "stdout",
     "output_type": "stream",
     "text": [
      "Coefficients: \n",
      " [[   7.00153867 -244.27466725  488.58606379  301.83242902 -693.67792807\n",
      "   364.02013146  106.15852423  289.24926974  645.158344     50.77526251]]\n",
      "Mean squared error: 3371.88\n",
      "Variance score: 0.54\n",
      "0.539208050632507\n"
     ]
    },
    {
     "data": {
      "image/png": "[encoded data removed]",
      "text/plain": [
       "<Figure size 432x288 with 1 Axes>"
      ]
     },
     "metadata": {},
     "output_type": "display_data"
    }
   ],
   "source": [
    "regr = linear_model.LinearRegression()\n",
    "regr.fit(X_train,y_train)\n",
    "y_pred = regr.predict(X_test)\n",
    "# The coefficients\n",
    "print('Coefficients: \\n', regr.coef_)\n",
    "# The mean squared error\n",
    "print(\"Mean squared error: %.2f\"\n",
    "      % mean_squared_error(y_test, y_pred))\n",
    "# Explained variance score: 1 is perfect prediction\n",
    "print('Variance score: %.2f' % r2_score(y_test, y_pred))\n",
    "print(r2_score(y_test, y_pred))\n",
    "\n",
    "# Plot outputs\n",
    "plt.scatter(range(X_test.shape[0]), y_test, color='red')\n",
    "plt.plot(range(X_test.shape[0]), y_pred, color='blue', linewidth=3)\n",
    "\n",
    "plt.xticks(())\n",
    "plt.yticks(())\n",
    "\n",
    "plt.show();"
   ]
  },
  {
   "cell_type": "code",
   "execution_count": 17,
   "id": "bf8e1c31",
   "metadata": {},
   "outputs": [
    {
     "data": {
      "image/png": "[encoded data removed]",
      "text/plain": [
       "<Figure size 432x288 with 1 Axes>"
      ]
     },
     "metadata": {
      "needs_background": "light"
     },
     "output_type": "display_data"
    }
   ],
   "source": [
    "import matplotlib.pyplot as plt\n",
    "f = X_test.dot(params['w']) + params['b']\n",
    "\n",
    "plt.scatter(range(X_test.shape[0]), y_test)\n",
    "plt.plot(f, color = 'darkorange')\n",
    "plt.xlabel('X_test')\n",
    "plt.ylabel('y_test')\n",
    "plt.show();"
   ]
  },
  {
   "cell_type": "code",
   "execution_count": 18,
   "id": "0eef6ad1",
   "metadata": {},
   "outputs": [
    {
     "data": {
      "image/png": "[encoded data removed]",
      "text/plain": [
       "<Figure size 432x288 with 1 Axes>"
      ]
     },
     "metadata": {
      "needs_background": "light"
     },
     "output_type": "display_data"
    }
   ],
   "source": [
    "plt.plot(loss_his, color = 'blue')\n",
    "plt.xlabel('epochs')\n",
    "plt.ylabel('loss')\n",
    "plt.show()"
   ]
  },
  {
   "cell_type": "code",
   "execution_count": null,
   "id": "979d3cb0",
   "metadata": {},
   "outputs": [],
   "source": []
  }
 ],
 "metadata": {
  "celltoolbar": "Tags",
  "kernelspec": {
   "display_name": "Python 3 (ipykernel)",
   "language": "python",
   "name": "python3"
  },
  "language_info": {
   "codemirror_mode": {
    "name": "ipython",
    "version": 3
   },
   "file_extension": ".py",
   "mimetype": "text/x-python",
   "name": "python",
   "nbconvert_exporter": "python",
   "pygments_lexer": "ipython3",
   "version": "3.9.12"
  }
 },
 "nbformat": 4,
 "nbformat_minor": 5
}
